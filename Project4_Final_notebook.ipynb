{
  "cells": [
    {
      "cell_type": "markdown",
      "metadata": {
        "id": "12-_0OY_YRB-",
        "outputId": "87a652d2-3c44-4a02-e43a-37ccdebfa559"
      },
      "source": [
        "# Outline/Purpose:\n",
        "\n",
        "The overall purpose of this project is to train a machine learning model on the assumed email data to forecast if an email is spam or not spam, and to pick the best preferred model for this classification task.\n",
        "\n",
        "\n",
        "1.\tPre-process the data: Clean the data-set and eliminate any irrelevant information. As our data is already in numerical arrangement converting it was not essential.\n",
        "2.\tTraining the models: This step includes splitting our data set into Training data and Test data. Ultimately ‘Train’ several supervised classification models such as KNN, SVM, Naive Bayes, Decision Trees, Random Forest, and Logistic Regression using the pre-processed data.\n",
        "3.\tAppraise the models: Assess the performance of the models via metrics such as accuracy, precision, recall, and F1-score.\n",
        "4.\tElect the best and least preferred models: Based on the evaluation, choose the best model that provides the highest accuracy and has the best overall performance.\n",
        "\n"
      ]
    },
    {
      "cell_type": "code",
      "execution_count": 1,
      "metadata": {
        "id": "2ZavKtX486z4"
      },
      "outputs": [],
      "source": [
        "import pandas as pd\n",
        "import numpy as np\n",
        "import tensorflow as tf\n",
        "import matplotlib.pyplot as plt\n",
        "\n",
        "from sklearn.model_selection import train_test_split\n",
        "from sklearn.linear_model import LogisticRegression\n",
        "from sklearn.neighbors import KNeighborsClassifier\n",
        "from sklearn.svm import SVC\n",
        "from sklearn.naive_bayes import GaussianNB\n",
        "from sklearn.tree import DecisionTreeClassifier\n",
        "from sklearn.ensemble import RandomForestClassifier, GradientBoostingClassifier\n",
        "from sklearn.metrics import accuracy_score, precision_score, recall_score, f1_score\n",
        "from sklearn.model_selection import train_test_split\n",
        "from sklearn.preprocessing import StandardScaler\n",
        "\n",
        "from sklearn.metrics import balanced_accuracy_score, confusion_matrix, classification_report\n",
        "\n"
      ]
    },
    {
      "cell_type": "code",
      "source": [
        "from google.colab import files\n",
        "uploaded = files.upload()"
      ],
      "metadata": {
        "colab": {
          "base_uri": "https://localhost:8080/",
          "height": 73
        },
        "id": "coBuEllx9fJE",
        "outputId": "bcd786f5-8fe7-45d9-b2d5-6011148b4f35"
      },
      "execution_count": 2,
      "outputs": [
        {
          "output_type": "display_data",
          "data": {
            "text/plain": [
              "<IPython.core.display.HTML object>"
            ],
            "text/html": [
              "\n",
              "     <input type=\"file\" id=\"files-b7277878-7581-4cc9-861b-fe16c258605b\" name=\"files[]\" multiple disabled\n",
              "        style=\"border:none\" />\n",
              "     <output id=\"result-b7277878-7581-4cc9-861b-fe16c258605b\">\n",
              "      Upload widget is only available when the cell has been executed in the\n",
              "      current browser session. Please rerun this cell to enable.\n",
              "      </output>\n",
              "      <script>// Copyright 2017 Google LLC\n",
              "//\n",
              "// Licensed under the Apache License, Version 2.0 (the \"License\");\n",
              "// you may not use this file except in compliance with the License.\n",
              "// You may obtain a copy of the License at\n",
              "//\n",
              "//      http://www.apache.org/licenses/LICENSE-2.0\n",
              "//\n",
              "// Unless required by applicable law or agreed to in writing, software\n",
              "// distributed under the License is distributed on an \"AS IS\" BASIS,\n",
              "// WITHOUT WARRANTIES OR CONDITIONS OF ANY KIND, either express or implied.\n",
              "// See the License for the specific language governing permissions and\n",
              "// limitations under the License.\n",
              "\n",
              "/**\n",
              " * @fileoverview Helpers for google.colab Python module.\n",
              " */\n",
              "(function(scope) {\n",
              "function span(text, styleAttributes = {}) {\n",
              "  const element = document.createElement('span');\n",
              "  element.textContent = text;\n",
              "  for (const key of Object.keys(styleAttributes)) {\n",
              "    element.style[key] = styleAttributes[key];\n",
              "  }\n",
              "  return element;\n",
              "}\n",
              "\n",
              "// Max number of bytes which will be uploaded at a time.\n",
              "const MAX_PAYLOAD_SIZE = 100 * 1024;\n",
              "\n",
              "function _uploadFiles(inputId, outputId) {\n",
              "  const steps = uploadFilesStep(inputId, outputId);\n",
              "  const outputElement = document.getElementById(outputId);\n",
              "  // Cache steps on the outputElement to make it available for the next call\n",
              "  // to uploadFilesContinue from Python.\n",
              "  outputElement.steps = steps;\n",
              "\n",
              "  return _uploadFilesContinue(outputId);\n",
              "}\n",
              "\n",
              "// This is roughly an async generator (not supported in the browser yet),\n",
              "// where there are multiple asynchronous steps and the Python side is going\n",
              "// to poll for completion of each step.\n",
              "// This uses a Promise to block the python side on completion of each step,\n",
              "// then passes the result of the previous step as the input to the next step.\n",
              "function _uploadFilesContinue(outputId) {\n",
              "  const outputElement = document.getElementById(outputId);\n",
              "  const steps = outputElement.steps;\n",
              "\n",
              "  const next = steps.next(outputElement.lastPromiseValue);\n",
              "  return Promise.resolve(next.value.promise).then((value) => {\n",
              "    // Cache the last promise value to make it available to the next\n",
              "    // step of the generator.\n",
              "    outputElement.lastPromiseValue = value;\n",
              "    return next.value.response;\n",
              "  });\n",
              "}\n",
              "\n",
              "/**\n",
              " * Generator function which is called between each async step of the upload\n",
              " * process.\n",
              " * @param {string} inputId Element ID of the input file picker element.\n",
              " * @param {string} outputId Element ID of the output display.\n",
              " * @return {!Iterable<!Object>} Iterable of next steps.\n",
              " */\n",
              "function* uploadFilesStep(inputId, outputId) {\n",
              "  const inputElement = document.getElementById(inputId);\n",
              "  inputElement.disabled = false;\n",
              "\n",
              "  const outputElement = document.getElementById(outputId);\n",
              "  outputElement.innerHTML = '';\n",
              "\n",
              "  const pickedPromise = new Promise((resolve) => {\n",
              "    inputElement.addEventListener('change', (e) => {\n",
              "      resolve(e.target.files);\n",
              "    });\n",
              "  });\n",
              "\n",
              "  const cancel = document.createElement('button');\n",
              "  inputElement.parentElement.appendChild(cancel);\n",
              "  cancel.textContent = 'Cancel upload';\n",
              "  const cancelPromise = new Promise((resolve) => {\n",
              "    cancel.onclick = () => {\n",
              "      resolve(null);\n",
              "    };\n",
              "  });\n",
              "\n",
              "  // Wait for the user to pick the files.\n",
              "  const files = yield {\n",
              "    promise: Promise.race([pickedPromise, cancelPromise]),\n",
              "    response: {\n",
              "      action: 'starting',\n",
              "    }\n",
              "  };\n",
              "\n",
              "  cancel.remove();\n",
              "\n",
              "  // Disable the input element since further picks are not allowed.\n",
              "  inputElement.disabled = true;\n",
              "\n",
              "  if (!files) {\n",
              "    return {\n",
              "      response: {\n",
              "        action: 'complete',\n",
              "      }\n",
              "    };\n",
              "  }\n",
              "\n",
              "  for (const file of files) {\n",
              "    const li = document.createElement('li');\n",
              "    li.append(span(file.name, {fontWeight: 'bold'}));\n",
              "    li.append(span(\n",
              "        `(${file.type || 'n/a'}) - ${file.size} bytes, ` +\n",
              "        `last modified: ${\n",
              "            file.lastModifiedDate ? file.lastModifiedDate.toLocaleDateString() :\n",
              "                                    'n/a'} - `));\n",
              "    const percent = span('0% done');\n",
              "    li.appendChild(percent);\n",
              "\n",
              "    outputElement.appendChild(li);\n",
              "\n",
              "    const fileDataPromise = new Promise((resolve) => {\n",
              "      const reader = new FileReader();\n",
              "      reader.onload = (e) => {\n",
              "        resolve(e.target.result);\n",
              "      };\n",
              "      reader.readAsArrayBuffer(file);\n",
              "    });\n",
              "    // Wait for the data to be ready.\n",
              "    let fileData = yield {\n",
              "      promise: fileDataPromise,\n",
              "      response: {\n",
              "        action: 'continue',\n",
              "      }\n",
              "    };\n",
              "\n",
              "    // Use a chunked sending to avoid message size limits. See b/62115660.\n",
              "    let position = 0;\n",
              "    do {\n",
              "      const length = Math.min(fileData.byteLength - position, MAX_PAYLOAD_SIZE);\n",
              "      const chunk = new Uint8Array(fileData, position, length);\n",
              "      position += length;\n",
              "\n",
              "      const base64 = btoa(String.fromCharCode.apply(null, chunk));\n",
              "      yield {\n",
              "        response: {\n",
              "          action: 'append',\n",
              "          file: file.name,\n",
              "          data: base64,\n",
              "        },\n",
              "      };\n",
              "\n",
              "      let percentDone = fileData.byteLength === 0 ?\n",
              "          100 :\n",
              "          Math.round((position / fileData.byteLength) * 100);\n",
              "      percent.textContent = `${percentDone}% done`;\n",
              "\n",
              "    } while (position < fileData.byteLength);\n",
              "  }\n",
              "\n",
              "  // All done.\n",
              "  yield {\n",
              "    response: {\n",
              "      action: 'complete',\n",
              "    }\n",
              "  };\n",
              "}\n",
              "\n",
              "scope.google = scope.google || {};\n",
              "scope.google.colab = scope.google.colab || {};\n",
              "scope.google.colab._files = {\n",
              "  _uploadFiles,\n",
              "  _uploadFilesContinue,\n",
              "};\n",
              "})(self);\n",
              "</script> "
            ]
          },
          "metadata": {}
        },
        {
          "output_type": "stream",
          "name": "stdout",
          "text": [
            "Saving data.csv to data.csv\n"
          ]
        }
      ]
    },
    {
      "cell_type": "code",
      "source": [
        "#Read csv file into a dataframe\n",
        "import io \n",
        "df = pd.read_csv(io.BytesIO(uploaded['data.csv']))"
      ],
      "metadata": {
        "id": "lkeAruxn9o8p"
      },
      "execution_count": 3,
      "outputs": []
    },
    {
      "cell_type": "markdown",
      "metadata": {
        "id": "D3H_69rz86z6"
      },
      "source": [
        "# Load and Preprocess the data:\n",
        "Below code will load the data from the csv file into a pandas dataframe, remove the first column which is the email number, replace all non-numeric characters with NaN values, fill the missing values with 0, convert the data into integer type, and store it as dataframe named 'df'."
      ]
    },
    {
      "cell_type": "code",
      "execution_count": 4,
      "metadata": {
        "id": "jSWmiHvlYUz2",
        "scrolled": true,
        "colab": {
          "base_uri": "https://localhost:8080/",
          "height": 424
        },
        "outputId": "96bedbed-fcb4-47fc-9299-63038773808f"
      },
      "outputs": [
        {
          "output_type": "execute_result",
          "data": {
            "text/plain": [
              "      Prediction  the  to  ect  and  for  of    a  you  hou  ...  \\\n",
              "0              0    0   0    1    0    0   0    2    0    0  ...   \n",
              "1              0    8  13   24    6    6   2  102    1   27  ...   \n",
              "2              0    0   0    1    0    0   0    8    0    0  ...   \n",
              "3              0    0   5   22    0    5   1   51    2   10  ...   \n",
              "4              0    7   6   17    1    5   2   57    0    9  ...   \n",
              "...          ...  ...  ..  ...  ...  ...  ..  ...  ...  ...  ...   \n",
              "5167           0    2   2    2    3    0   0   32    0    0  ...   \n",
              "5168           0   35  27   11    2    6   5  151    4    3  ...   \n",
              "5169           1    0   0    1    1    0   0   11    0    0  ...   \n",
              "5170           1    2   7    1    0    2   1   28    2    0  ...   \n",
              "5171           0   22  24    5    1    6   5  148    8    2  ...   \n",
              "\n",
              "      enhancements  connevey  jay  valued  lay  infrastructure  military  \\\n",
              "0                0         0    0       0    0               0         0   \n",
              "1                0         0    0       0    0               0         0   \n",
              "2                0         0    0       0    0               0         0   \n",
              "3                0         0    0       0    0               0         0   \n",
              "4                0         0    0       0    0               0         0   \n",
              "...            ...       ...  ...     ...  ...             ...       ...   \n",
              "5167             0         0    0       0    0               0         0   \n",
              "5168             0         0    0       0    0               0         0   \n",
              "5169             0         0    0       0    0               0         0   \n",
              "5170             0         0    0       0    0               0         0   \n",
              "5171             0         0    0       0    0               0         0   \n",
              "\n",
              "      allowing  ff  dry  \n",
              "0            0   0    0  \n",
              "1            0   1    0  \n",
              "2            0   0    0  \n",
              "3            0   0    0  \n",
              "4            0   1    0  \n",
              "...        ...  ..  ...  \n",
              "5167         0   0    0  \n",
              "5168         0   1    0  \n",
              "5169         0   0    0  \n",
              "5170         0   1    0  \n",
              "5171         0   0    0  \n",
              "\n",
              "[5172 rows x 3001 columns]"
            ],
            "text/html": [
              "\n",
              "  <div id=\"df-9ee6bb06-e2c6-4ee4-9685-9b709f28ce09\">\n",
              "    <div class=\"colab-df-container\">\n",
              "      <div>\n",
              "<style scoped>\n",
              "    .dataframe tbody tr th:only-of-type {\n",
              "        vertical-align: middle;\n",
              "    }\n",
              "\n",
              "    .dataframe tbody tr th {\n",
              "        vertical-align: top;\n",
              "    }\n",
              "\n",
              "    .dataframe thead th {\n",
              "        text-align: right;\n",
              "    }\n",
              "</style>\n",
              "<table border=\"1\" class=\"dataframe\">\n",
              "  <thead>\n",
              "    <tr style=\"text-align: right;\">\n",
              "      <th></th>\n",
              "      <th>Prediction</th>\n",
              "      <th>the</th>\n",
              "      <th>to</th>\n",
              "      <th>ect</th>\n",
              "      <th>and</th>\n",
              "      <th>for</th>\n",
              "      <th>of</th>\n",
              "      <th>a</th>\n",
              "      <th>you</th>\n",
              "      <th>hou</th>\n",
              "      <th>...</th>\n",
              "      <th>enhancements</th>\n",
              "      <th>connevey</th>\n",
              "      <th>jay</th>\n",
              "      <th>valued</th>\n",
              "      <th>lay</th>\n",
              "      <th>infrastructure</th>\n",
              "      <th>military</th>\n",
              "      <th>allowing</th>\n",
              "      <th>ff</th>\n",
              "      <th>dry</th>\n",
              "    </tr>\n",
              "  </thead>\n",
              "  <tbody>\n",
              "    <tr>\n",
              "      <th>0</th>\n",
              "      <td>0</td>\n",
              "      <td>0</td>\n",
              "      <td>0</td>\n",
              "      <td>1</td>\n",
              "      <td>0</td>\n",
              "      <td>0</td>\n",
              "      <td>0</td>\n",
              "      <td>2</td>\n",
              "      <td>0</td>\n",
              "      <td>0</td>\n",
              "      <td>...</td>\n",
              "      <td>0</td>\n",
              "      <td>0</td>\n",
              "      <td>0</td>\n",
              "      <td>0</td>\n",
              "      <td>0</td>\n",
              "      <td>0</td>\n",
              "      <td>0</td>\n",
              "      <td>0</td>\n",
              "      <td>0</td>\n",
              "      <td>0</td>\n",
              "    </tr>\n",
              "    <tr>\n",
              "      <th>1</th>\n",
              "      <td>0</td>\n",
              "      <td>8</td>\n",
              "      <td>13</td>\n",
              "      <td>24</td>\n",
              "      <td>6</td>\n",
              "      <td>6</td>\n",
              "      <td>2</td>\n",
              "      <td>102</td>\n",
              "      <td>1</td>\n",
              "      <td>27</td>\n",
              "      <td>...</td>\n",
              "      <td>0</td>\n",
              "      <td>0</td>\n",
              "      <td>0</td>\n",
              "      <td>0</td>\n",
              "      <td>0</td>\n",
              "      <td>0</td>\n",
              "      <td>0</td>\n",
              "      <td>0</td>\n",
              "      <td>1</td>\n",
              "      <td>0</td>\n",
              "    </tr>\n",
              "    <tr>\n",
              "      <th>2</th>\n",
              "      <td>0</td>\n",
              "      <td>0</td>\n",
              "      <td>0</td>\n",
              "      <td>1</td>\n",
              "      <td>0</td>\n",
              "      <td>0</td>\n",
              "      <td>0</td>\n",
              "      <td>8</td>\n",
              "      <td>0</td>\n",
              "      <td>0</td>\n",
              "      <td>...</td>\n",
              "      <td>0</td>\n",
              "      <td>0</td>\n",
              "      <td>0</td>\n",
              "      <td>0</td>\n",
              "      <td>0</td>\n",
              "      <td>0</td>\n",
              "      <td>0</td>\n",
              "      <td>0</td>\n",
              "      <td>0</td>\n",
              "      <td>0</td>\n",
              "    </tr>\n",
              "    <tr>\n",
              "      <th>3</th>\n",
              "      <td>0</td>\n",
              "      <td>0</td>\n",
              "      <td>5</td>\n",
              "      <td>22</td>\n",
              "      <td>0</td>\n",
              "      <td>5</td>\n",
              "      <td>1</td>\n",
              "      <td>51</td>\n",
              "      <td>2</td>\n",
              "      <td>10</td>\n",
              "      <td>...</td>\n",
              "      <td>0</td>\n",
              "      <td>0</td>\n",
              "      <td>0</td>\n",
              "      <td>0</td>\n",
              "      <td>0</td>\n",
              "      <td>0</td>\n",
              "      <td>0</td>\n",
              "      <td>0</td>\n",
              "      <td>0</td>\n",
              "      <td>0</td>\n",
              "    </tr>\n",
              "    <tr>\n",
              "      <th>4</th>\n",
              "      <td>0</td>\n",
              "      <td>7</td>\n",
              "      <td>6</td>\n",
              "      <td>17</td>\n",
              "      <td>1</td>\n",
              "      <td>5</td>\n",
              "      <td>2</td>\n",
              "      <td>57</td>\n",
              "      <td>0</td>\n",
              "      <td>9</td>\n",
              "      <td>...</td>\n",
              "      <td>0</td>\n",
              "      <td>0</td>\n",
              "      <td>0</td>\n",
              "      <td>0</td>\n",
              "      <td>0</td>\n",
              "      <td>0</td>\n",
              "      <td>0</td>\n",
              "      <td>0</td>\n",
              "      <td>1</td>\n",
              "      <td>0</td>\n",
              "    </tr>\n",
              "    <tr>\n",
              "      <th>...</th>\n",
              "      <td>...</td>\n",
              "      <td>...</td>\n",
              "      <td>...</td>\n",
              "      <td>...</td>\n",
              "      <td>...</td>\n",
              "      <td>...</td>\n",
              "      <td>...</td>\n",
              "      <td>...</td>\n",
              "      <td>...</td>\n",
              "      <td>...</td>\n",
              "      <td>...</td>\n",
              "      <td>...</td>\n",
              "      <td>...</td>\n",
              "      <td>...</td>\n",
              "      <td>...</td>\n",
              "      <td>...</td>\n",
              "      <td>...</td>\n",
              "      <td>...</td>\n",
              "      <td>...</td>\n",
              "      <td>...</td>\n",
              "      <td>...</td>\n",
              "    </tr>\n",
              "    <tr>\n",
              "      <th>5167</th>\n",
              "      <td>0</td>\n",
              "      <td>2</td>\n",
              "      <td>2</td>\n",
              "      <td>2</td>\n",
              "      <td>3</td>\n",
              "      <td>0</td>\n",
              "      <td>0</td>\n",
              "      <td>32</td>\n",
              "      <td>0</td>\n",
              "      <td>0</td>\n",
              "      <td>...</td>\n",
              "      <td>0</td>\n",
              "      <td>0</td>\n",
              "      <td>0</td>\n",
              "      <td>0</td>\n",
              "      <td>0</td>\n",
              "      <td>0</td>\n",
              "      <td>0</td>\n",
              "      <td>0</td>\n",
              "      <td>0</td>\n",
              "      <td>0</td>\n",
              "    </tr>\n",
              "    <tr>\n",
              "      <th>5168</th>\n",
              "      <td>0</td>\n",
              "      <td>35</td>\n",
              "      <td>27</td>\n",
              "      <td>11</td>\n",
              "      <td>2</td>\n",
              "      <td>6</td>\n",
              "      <td>5</td>\n",
              "      <td>151</td>\n",
              "      <td>4</td>\n",
              "      <td>3</td>\n",
              "      <td>...</td>\n",
              "      <td>0</td>\n",
              "      <td>0</td>\n",
              "      <td>0</td>\n",
              "      <td>0</td>\n",
              "      <td>0</td>\n",
              "      <td>0</td>\n",
              "      <td>0</td>\n",
              "      <td>0</td>\n",
              "      <td>1</td>\n",
              "      <td>0</td>\n",
              "    </tr>\n",
              "    <tr>\n",
              "      <th>5169</th>\n",
              "      <td>1</td>\n",
              "      <td>0</td>\n",
              "      <td>0</td>\n",
              "      <td>1</td>\n",
              "      <td>1</td>\n",
              "      <td>0</td>\n",
              "      <td>0</td>\n",
              "      <td>11</td>\n",
              "      <td>0</td>\n",
              "      <td>0</td>\n",
              "      <td>...</td>\n",
              "      <td>0</td>\n",
              "      <td>0</td>\n",
              "      <td>0</td>\n",
              "      <td>0</td>\n",
              "      <td>0</td>\n",
              "      <td>0</td>\n",
              "      <td>0</td>\n",
              "      <td>0</td>\n",
              "      <td>0</td>\n",
              "      <td>0</td>\n",
              "    </tr>\n",
              "    <tr>\n",
              "      <th>5170</th>\n",
              "      <td>1</td>\n",
              "      <td>2</td>\n",
              "      <td>7</td>\n",
              "      <td>1</td>\n",
              "      <td>0</td>\n",
              "      <td>2</td>\n",
              "      <td>1</td>\n",
              "      <td>28</td>\n",
              "      <td>2</td>\n",
              "      <td>0</td>\n",
              "      <td>...</td>\n",
              "      <td>0</td>\n",
              "      <td>0</td>\n",
              "      <td>0</td>\n",
              "      <td>0</td>\n",
              "      <td>0</td>\n",
              "      <td>0</td>\n",
              "      <td>0</td>\n",
              "      <td>0</td>\n",
              "      <td>1</td>\n",
              "      <td>0</td>\n",
              "    </tr>\n",
              "    <tr>\n",
              "      <th>5171</th>\n",
              "      <td>0</td>\n",
              "      <td>22</td>\n",
              "      <td>24</td>\n",
              "      <td>5</td>\n",
              "      <td>1</td>\n",
              "      <td>6</td>\n",
              "      <td>5</td>\n",
              "      <td>148</td>\n",
              "      <td>8</td>\n",
              "      <td>2</td>\n",
              "      <td>...</td>\n",
              "      <td>0</td>\n",
              "      <td>0</td>\n",
              "      <td>0</td>\n",
              "      <td>0</td>\n",
              "      <td>0</td>\n",
              "      <td>0</td>\n",
              "      <td>0</td>\n",
              "      <td>0</td>\n",
              "      <td>0</td>\n",
              "      <td>0</td>\n",
              "    </tr>\n",
              "  </tbody>\n",
              "</table>\n",
              "<p>5172 rows × 3001 columns</p>\n",
              "</div>\n",
              "      <button class=\"colab-df-convert\" onclick=\"convertToInteractive('df-9ee6bb06-e2c6-4ee4-9685-9b709f28ce09')\"\n",
              "              title=\"Convert this dataframe to an interactive table.\"\n",
              "              style=\"display:none;\">\n",
              "        \n",
              "  <svg xmlns=\"http://www.w3.org/2000/svg\" height=\"24px\"viewBox=\"0 0 24 24\"\n",
              "       width=\"24px\">\n",
              "    <path d=\"M0 0h24v24H0V0z\" fill=\"none\"/>\n",
              "    <path d=\"M18.56 5.44l.94 2.06.94-2.06 2.06-.94-2.06-.94-.94-2.06-.94 2.06-2.06.94zm-11 1L8.5 8.5l.94-2.06 2.06-.94-2.06-.94L8.5 2.5l-.94 2.06-2.06.94zm10 10l.94 2.06.94-2.06 2.06-.94-2.06-.94-.94-2.06-.94 2.06-2.06.94z\"/><path d=\"M17.41 7.96l-1.37-1.37c-.4-.4-.92-.59-1.43-.59-.52 0-1.04.2-1.43.59L10.3 9.45l-7.72 7.72c-.78.78-.78 2.05 0 2.83L4 21.41c.39.39.9.59 1.41.59.51 0 1.02-.2 1.41-.59l7.78-7.78 2.81-2.81c.8-.78.8-2.07 0-2.86zM5.41 20L4 18.59l7.72-7.72 1.47 1.35L5.41 20z\"/>\n",
              "  </svg>\n",
              "      </button>\n",
              "      \n",
              "  <style>\n",
              "    .colab-df-container {\n",
              "      display:flex;\n",
              "      flex-wrap:wrap;\n",
              "      gap: 12px;\n",
              "    }\n",
              "\n",
              "    .colab-df-convert {\n",
              "      background-color: #E8F0FE;\n",
              "      border: none;\n",
              "      border-radius: 50%;\n",
              "      cursor: pointer;\n",
              "      display: none;\n",
              "      fill: #1967D2;\n",
              "      height: 32px;\n",
              "      padding: 0 0 0 0;\n",
              "      width: 32px;\n",
              "    }\n",
              "\n",
              "    .colab-df-convert:hover {\n",
              "      background-color: #E2EBFA;\n",
              "      box-shadow: 0px 1px 2px rgba(60, 64, 67, 0.3), 0px 1px 3px 1px rgba(60, 64, 67, 0.15);\n",
              "      fill: #174EA6;\n",
              "    }\n",
              "\n",
              "    [theme=dark] .colab-df-convert {\n",
              "      background-color: #3B4455;\n",
              "      fill: #D2E3FC;\n",
              "    }\n",
              "\n",
              "    [theme=dark] .colab-df-convert:hover {\n",
              "      background-color: #434B5C;\n",
              "      box-shadow: 0px 1px 3px 1px rgba(0, 0, 0, 0.15);\n",
              "      filter: drop-shadow(0px 1px 2px rgba(0, 0, 0, 0.3));\n",
              "      fill: #FFFFFF;\n",
              "    }\n",
              "  </style>\n",
              "\n",
              "      <script>\n",
              "        const buttonEl =\n",
              "          document.querySelector('#df-9ee6bb06-e2c6-4ee4-9685-9b709f28ce09 button.colab-df-convert');\n",
              "        buttonEl.style.display =\n",
              "          google.colab.kernel.accessAllowed ? 'block' : 'none';\n",
              "\n",
              "        async function convertToInteractive(key) {\n",
              "          const element = document.querySelector('#df-9ee6bb06-e2c6-4ee4-9685-9b709f28ce09');\n",
              "          const dataTable =\n",
              "            await google.colab.kernel.invokeFunction('convertToInteractive',\n",
              "                                                     [key], {});\n",
              "          if (!dataTable) return;\n",
              "\n",
              "          const docLinkHtml = 'Like what you see? Visit the ' +\n",
              "            '<a target=\"_blank\" href=https://colab.research.google.com/notebooks/data_table.ipynb>data table notebook</a>'\n",
              "            + ' to learn more about interactive tables.';\n",
              "          element.innerHTML = '';\n",
              "          dataTable['output_type'] = 'display_data';\n",
              "          await google.colab.output.renderOutput(dataTable, element);\n",
              "          const docLink = document.createElement('div');\n",
              "          docLink.innerHTML = docLinkHtml;\n",
              "          element.appendChild(docLink);\n",
              "        }\n",
              "      </script>\n",
              "    </div>\n",
              "  </div>\n",
              "  "
            ]
          },
          "metadata": {},
          "execution_count": 4
        }
      ],
      "source": [
        "# Load the data from csv file into a pandas dataframe\n",
        "#df = pd.read_csv(\"./data.csv\")\n",
        "\n",
        "# Remove the first column (Email name) as it is not relevant for the prediction\n",
        "df = df.drop(columns=['Email No.'])\n",
        "\n",
        "# Replace non-numeric characters with NaN values\n",
        "df = df.replace(r'[^\\d.]+', value=float('nan'), regex=True)\n",
        "\n",
        "# Fill missing values with 0\n",
        "df.fillna(0, inplace=True)\n",
        "\n",
        "# Convert the data into integer type\n",
        "df = df.astype(int)\n",
        "df"
      ]
    },
    {
      "cell_type": "code",
      "execution_count": 5,
      "metadata": {
        "colab": {
          "base_uri": "https://localhost:8080/"
        },
        "id": "fYMAGIUx86z7",
        "outputId": "ddf03830-231d-46b2-f8cb-22d8f1168dbf"
      },
      "outputs": [
        {
          "output_type": "execute_result",
          "data": {
            "text/plain": [
              "815"
            ]
          },
          "metadata": {},
          "execution_count": 5
        }
      ],
      "source": [
        "low_cols = [col for col in df.columns[1:] if df[col].sum() <= 50]\n",
        "low_count = len(low_cols)\n",
        "low_count "
      ]
    },
    {
      "cell_type": "code",
      "execution_count": 6,
      "metadata": {
        "colab": {
          "base_uri": "https://localhost:8080/",
          "height": 236
        },
        "id": "ik_Y4_zr86z7",
        "outputId": "1e3e0e52-2abe-4dcd-91c0-a864bcbb26f0"
      },
      "outputs": [
        {
          "output_type": "execute_result",
          "data": {
            "text/plain": [
              "   Prediction  the  to  ect  and  for  of    a  you  hou  ...  del  trial  \\\n",
              "0           0    0   0    1    0    0   0    2    0    0  ...    0      0   \n",
              "1           0    8  13   24    6    6   2  102    1   27  ...    0      0   \n",
              "2           0    0   0    1    0    0   0    8    0    0  ...    0      0   \n",
              "3           0    0   5   22    0    5   1   51    2   10  ...    0      0   \n",
              "4           0    7   6   17    1    5   2   57    0    9  ...    0      0   \n",
              "\n",
              "   ended  fall  hate  plain  jay  valued  lay  ff  \n",
              "0      0     0     0      0    0       0    0   0  \n",
              "1      0     0     0      0    0       0    0   1  \n",
              "2      0     0     0      0    0       0    0   0  \n",
              "3      0     0     0      0    0       0    0   0  \n",
              "4      0     0     0      0    0       0    0   1  \n",
              "\n",
              "[5 rows x 2186 columns]"
            ],
            "text/html": [
              "\n",
              "  <div id=\"df-71db98bf-06e0-49f3-b1ee-54a966e7fd88\">\n",
              "    <div class=\"colab-df-container\">\n",
              "      <div>\n",
              "<style scoped>\n",
              "    .dataframe tbody tr th:only-of-type {\n",
              "        vertical-align: middle;\n",
              "    }\n",
              "\n",
              "    .dataframe tbody tr th {\n",
              "        vertical-align: top;\n",
              "    }\n",
              "\n",
              "    .dataframe thead th {\n",
              "        text-align: right;\n",
              "    }\n",
              "</style>\n",
              "<table border=\"1\" class=\"dataframe\">\n",
              "  <thead>\n",
              "    <tr style=\"text-align: right;\">\n",
              "      <th></th>\n",
              "      <th>Prediction</th>\n",
              "      <th>the</th>\n",
              "      <th>to</th>\n",
              "      <th>ect</th>\n",
              "      <th>and</th>\n",
              "      <th>for</th>\n",
              "      <th>of</th>\n",
              "      <th>a</th>\n",
              "      <th>you</th>\n",
              "      <th>hou</th>\n",
              "      <th>...</th>\n",
              "      <th>del</th>\n",
              "      <th>trial</th>\n",
              "      <th>ended</th>\n",
              "      <th>fall</th>\n",
              "      <th>hate</th>\n",
              "      <th>plain</th>\n",
              "      <th>jay</th>\n",
              "      <th>valued</th>\n",
              "      <th>lay</th>\n",
              "      <th>ff</th>\n",
              "    </tr>\n",
              "  </thead>\n",
              "  <tbody>\n",
              "    <tr>\n",
              "      <th>0</th>\n",
              "      <td>0</td>\n",
              "      <td>0</td>\n",
              "      <td>0</td>\n",
              "      <td>1</td>\n",
              "      <td>0</td>\n",
              "      <td>0</td>\n",
              "      <td>0</td>\n",
              "      <td>2</td>\n",
              "      <td>0</td>\n",
              "      <td>0</td>\n",
              "      <td>...</td>\n",
              "      <td>0</td>\n",
              "      <td>0</td>\n",
              "      <td>0</td>\n",
              "      <td>0</td>\n",
              "      <td>0</td>\n",
              "      <td>0</td>\n",
              "      <td>0</td>\n",
              "      <td>0</td>\n",
              "      <td>0</td>\n",
              "      <td>0</td>\n",
              "    </tr>\n",
              "    <tr>\n",
              "      <th>1</th>\n",
              "      <td>0</td>\n",
              "      <td>8</td>\n",
              "      <td>13</td>\n",
              "      <td>24</td>\n",
              "      <td>6</td>\n",
              "      <td>6</td>\n",
              "      <td>2</td>\n",
              "      <td>102</td>\n",
              "      <td>1</td>\n",
              "      <td>27</td>\n",
              "      <td>...</td>\n",
              "      <td>0</td>\n",
              "      <td>0</td>\n",
              "      <td>0</td>\n",
              "      <td>0</td>\n",
              "      <td>0</td>\n",
              "      <td>0</td>\n",
              "      <td>0</td>\n",
              "      <td>0</td>\n",
              "      <td>0</td>\n",
              "      <td>1</td>\n",
              "    </tr>\n",
              "    <tr>\n",
              "      <th>2</th>\n",
              "      <td>0</td>\n",
              "      <td>0</td>\n",
              "      <td>0</td>\n",
              "      <td>1</td>\n",
              "      <td>0</td>\n",
              "      <td>0</td>\n",
              "      <td>0</td>\n",
              "      <td>8</td>\n",
              "      <td>0</td>\n",
              "      <td>0</td>\n",
              "      <td>...</td>\n",
              "      <td>0</td>\n",
              "      <td>0</td>\n",
              "      <td>0</td>\n",
              "      <td>0</td>\n",
              "      <td>0</td>\n",
              "      <td>0</td>\n",
              "      <td>0</td>\n",
              "      <td>0</td>\n",
              "      <td>0</td>\n",
              "      <td>0</td>\n",
              "    </tr>\n",
              "    <tr>\n",
              "      <th>3</th>\n",
              "      <td>0</td>\n",
              "      <td>0</td>\n",
              "      <td>5</td>\n",
              "      <td>22</td>\n",
              "      <td>0</td>\n",
              "      <td>5</td>\n",
              "      <td>1</td>\n",
              "      <td>51</td>\n",
              "      <td>2</td>\n",
              "      <td>10</td>\n",
              "      <td>...</td>\n",
              "      <td>0</td>\n",
              "      <td>0</td>\n",
              "      <td>0</td>\n",
              "      <td>0</td>\n",
              "      <td>0</td>\n",
              "      <td>0</td>\n",
              "      <td>0</td>\n",
              "      <td>0</td>\n",
              "      <td>0</td>\n",
              "      <td>0</td>\n",
              "    </tr>\n",
              "    <tr>\n",
              "      <th>4</th>\n",
              "      <td>0</td>\n",
              "      <td>7</td>\n",
              "      <td>6</td>\n",
              "      <td>17</td>\n",
              "      <td>1</td>\n",
              "      <td>5</td>\n",
              "      <td>2</td>\n",
              "      <td>57</td>\n",
              "      <td>0</td>\n",
              "      <td>9</td>\n",
              "      <td>...</td>\n",
              "      <td>0</td>\n",
              "      <td>0</td>\n",
              "      <td>0</td>\n",
              "      <td>0</td>\n",
              "      <td>0</td>\n",
              "      <td>0</td>\n",
              "      <td>0</td>\n",
              "      <td>0</td>\n",
              "      <td>0</td>\n",
              "      <td>1</td>\n",
              "    </tr>\n",
              "  </tbody>\n",
              "</table>\n",
              "<p>5 rows × 2186 columns</p>\n",
              "</div>\n",
              "      <button class=\"colab-df-convert\" onclick=\"convertToInteractive('df-71db98bf-06e0-49f3-b1ee-54a966e7fd88')\"\n",
              "              title=\"Convert this dataframe to an interactive table.\"\n",
              "              style=\"display:none;\">\n",
              "        \n",
              "  <svg xmlns=\"http://www.w3.org/2000/svg\" height=\"24px\"viewBox=\"0 0 24 24\"\n",
              "       width=\"24px\">\n",
              "    <path d=\"M0 0h24v24H0V0z\" fill=\"none\"/>\n",
              "    <path d=\"M18.56 5.44l.94 2.06.94-2.06 2.06-.94-2.06-.94-.94-2.06-.94 2.06-2.06.94zm-11 1L8.5 8.5l.94-2.06 2.06-.94-2.06-.94L8.5 2.5l-.94 2.06-2.06.94zm10 10l.94 2.06.94-2.06 2.06-.94-2.06-.94-.94-2.06-.94 2.06-2.06.94z\"/><path d=\"M17.41 7.96l-1.37-1.37c-.4-.4-.92-.59-1.43-.59-.52 0-1.04.2-1.43.59L10.3 9.45l-7.72 7.72c-.78.78-.78 2.05 0 2.83L4 21.41c.39.39.9.59 1.41.59.51 0 1.02-.2 1.41-.59l7.78-7.78 2.81-2.81c.8-.78.8-2.07 0-2.86zM5.41 20L4 18.59l7.72-7.72 1.47 1.35L5.41 20z\"/>\n",
              "  </svg>\n",
              "      </button>\n",
              "      \n",
              "  <style>\n",
              "    .colab-df-container {\n",
              "      display:flex;\n",
              "      flex-wrap:wrap;\n",
              "      gap: 12px;\n",
              "    }\n",
              "\n",
              "    .colab-df-convert {\n",
              "      background-color: #E8F0FE;\n",
              "      border: none;\n",
              "      border-radius: 50%;\n",
              "      cursor: pointer;\n",
              "      display: none;\n",
              "      fill: #1967D2;\n",
              "      height: 32px;\n",
              "      padding: 0 0 0 0;\n",
              "      width: 32px;\n",
              "    }\n",
              "\n",
              "    .colab-df-convert:hover {\n",
              "      background-color: #E2EBFA;\n",
              "      box-shadow: 0px 1px 2px rgba(60, 64, 67, 0.3), 0px 1px 3px 1px rgba(60, 64, 67, 0.15);\n",
              "      fill: #174EA6;\n",
              "    }\n",
              "\n",
              "    [theme=dark] .colab-df-convert {\n",
              "      background-color: #3B4455;\n",
              "      fill: #D2E3FC;\n",
              "    }\n",
              "\n",
              "    [theme=dark] .colab-df-convert:hover {\n",
              "      background-color: #434B5C;\n",
              "      box-shadow: 0px 1px 3px 1px rgba(0, 0, 0, 0.15);\n",
              "      filter: drop-shadow(0px 1px 2px rgba(0, 0, 0, 0.3));\n",
              "      fill: #FFFFFF;\n",
              "    }\n",
              "  </style>\n",
              "\n",
              "      <script>\n",
              "        const buttonEl =\n",
              "          document.querySelector('#df-71db98bf-06e0-49f3-b1ee-54a966e7fd88 button.colab-df-convert');\n",
              "        buttonEl.style.display =\n",
              "          google.colab.kernel.accessAllowed ? 'block' : 'none';\n",
              "\n",
              "        async function convertToInteractive(key) {\n",
              "          const element = document.querySelector('#df-71db98bf-06e0-49f3-b1ee-54a966e7fd88');\n",
              "          const dataTable =\n",
              "            await google.colab.kernel.invokeFunction('convertToInteractive',\n",
              "                                                     [key], {});\n",
              "          if (!dataTable) return;\n",
              "\n",
              "          const docLinkHtml = 'Like what you see? Visit the ' +\n",
              "            '<a target=\"_blank\" href=https://colab.research.google.com/notebooks/data_table.ipynb>data table notebook</a>'\n",
              "            + ' to learn more about interactive tables.';\n",
              "          element.innerHTML = '';\n",
              "          dataTable['output_type'] = 'display_data';\n",
              "          await google.colab.output.renderOutput(dataTable, element);\n",
              "          const docLink = document.createElement('div');\n",
              "          docLink.innerHTML = docLinkHtml;\n",
              "          element.appendChild(docLink);\n",
              "        }\n",
              "      </script>\n",
              "    </div>\n",
              "  </div>\n",
              "  "
            ]
          },
          "metadata": {},
          "execution_count": 6
        }
      ],
      "source": [
        "#Drop the low count columns from the df (3002 original columns - 815 dropped = 2187 columns)\n",
        "new_df = df.copy()\n",
        "for col in new_df.columns:\n",
        "    if col in low_cols:\n",
        "        del new_df[col]\n",
        "new_df.head()"
      ]
    },
    {
      "cell_type": "markdown",
      "metadata": {
        "id": "XeJxBMFlYVtz",
        "outputId": "68770b59-2c5b-4778-d6bf-1d83f6ace3a1"
      },
      "source": [
        "# Training the Models "
      ]
    },
    {
      "cell_type": "markdown",
      "metadata": {
        "id": "MG4I8DVe86z8"
      },
      "source": [
        "Splitting our Data Set into Training Data and Test Data\n",
        "\n",
        "(https://stackoverflow.com/questions/56311638/how-how-iloc-1-works-can-any-one-explain-1-params)"
      ]
    },
    {
      "cell_type": "code",
      "execution_count": 7,
      "metadata": {
        "id": "F1ERJYQ9iZCe"
      },
      "outputs": [],
      "source": [
        "# Split the data into features (X) and labels (y)\n",
        "# X = new_df.iloc[:, :-1].values\n",
        "# y = new_df.iloc[:, -1].values\n",
        "y = new_df['Prediction'].values\n",
        "X = new_df.drop('Prediction', axis=1).values"
      ]
    },
    {
      "cell_type": "code",
      "execution_count": 8,
      "metadata": {
        "id": "sfQ8pZyKiZwO"
      },
      "outputs": [],
      "source": [
        "# Split the data into training and testing sets\n",
        "X_train, X_test, y_train, y_test = train_test_split(X, y, test_size=0.2, random_state=0)"
      ]
    },
    {
      "cell_type": "markdown",
      "metadata": {
        "id": "4eN1XgJa86z9"
      },
      "source": [
        "Defining Array for 'Results'"
      ]
    },
    {
      "cell_type": "code",
      "execution_count": 9,
      "metadata": {
        "id": "am3O5GlziZ5q"
      },
      "outputs": [],
      "source": [
        "# Define a dictionary to store the results of each model\n",
        "results = {}"
      ]
    },
    {
      "cell_type": "markdown",
      "metadata": {
        "id": "_El8omZe86z9"
      },
      "source": [
        "# Building a Machine Learning KNN Model\n",
        "\n",
        "What is K-Nearest Neighbour? It is a supervised machine learning algorithm. The algorithm can be used to solve both classification and regression problem statements. The number of nearest neighbours to a new unknown variable that has to be predicted or classified is denoted by the symbol 'K'"
      ]
    },
    {
      "cell_type": "code",
      "execution_count": 10,
      "metadata": {
        "colab": {
          "base_uri": "https://localhost:8080/"
        },
        "id": "Prts_8G-ihFf",
        "outputId": "7fa26af8-3b42-4997-cae8-a4d121342b11",
        "scrolled": true
      },
      "outputs": [
        {
          "output_type": "stream",
          "name": "stdout",
          "text": [
            "{'accuracy': 0.8521739130434782, 'precision': 0.8117335990190067, 'recall': 0.8425263157894737, 'f1_score': 0.8240165631469979}\n"
          ]
        }
      ],
      "source": [
        "# Train KNN model\n",
        "model_KNN = KNeighborsClassifier()\n",
        "model_KNN.fit(X_train, y_train)\n",
        "\n",
        "# Predict the target values for test set\n",
        "y_pred_KNN = model_KNN.predict(X_test)\n",
        "\n",
        "# Evaluate the KNN model\n",
        "accuracy_KNN = accuracy_score(y_test, y_pred_KNN)\n",
        "precision_KNN = precision_score(y_test, y_pred_KNN,average='macro',zero_division=0)\n",
        "recall_KNN = recall_score(y_test, y_pred_KNN,average='macro',zero_division=0)\n",
        "f1_KNN = f1_score(y_test, y_pred_KNN,average='macro',zero_division=0)\n",
        "\n",
        "# Store the results of KNN model in the dictionary\n",
        "results[\"KNN\"] = {\"accuracy\": accuracy_KNN, \n",
        "                  \"precision\": precision_KNN, \n",
        "                  \"recall\": recall_KNN, \n",
        "                  \"f1_score\": f1_KNN\n",
        "                 }\n",
        "print(results[\"KNN\"])"
      ]
    },
    {
      "cell_type": "markdown",
      "metadata": {
        "id": "8H5iLHKL86z-"
      },
      "source": [
        "# Building a Machine Learning SVM Model\n",
        "\n",
        "What is SVM Model? Support vector machines (SVMs) are a set of supervised learning methods used for classification, regression and outliers detection. The advantages of support vector machines are: Effective in high dimensional spaces. Still effective in cases where number of dimensions is greater than the number of samples"
      ]
    },
    {
      "cell_type": "code",
      "execution_count": 11,
      "metadata": {
        "id": "77Qd1ftm9Ygp",
        "colab": {
          "base_uri": "https://localhost:8080/"
        },
        "outputId": "bf141a2c-105f-4b16-cceb-e71197722e8b"
      },
      "outputs": [
        {
          "output_type": "stream",
          "name": "stdout",
          "text": [
            "{'accuracy': 0.7951690821256039, 'precision': 0.8001954056731864, 'recall': 0.6530877192982456, 'f1_score': 0.6739983121961656}\n"
          ]
        }
      ],
      "source": [
        "# Train SVM model\n",
        "model_SVM = SVC()\n",
        "model_SVM.fit(X_train, y_train)\n",
        "\n",
        "# Predict the target values for test set\n",
        "y_pred_SVM = model_SVM.predict(X_test)\n",
        "\n",
        "# Evaluate the SVM model\n",
        "accuracy_SVM = accuracy_score(y_test, y_pred_SVM)\n",
        "precision_SVM = precision_score(y_test, y_pred_SVM,average='macro',zero_division=0)\n",
        "recall_SVM = recall_score(y_test, y_pred_SVM,average='macro',zero_division=0)\n",
        "f1_SVM = f1_score(y_test, y_pred_SVM,average='macro',zero_division=0)\n",
        "\n",
        "# Store the results of SVM model in the dictionary\n",
        "results[\"SVM\"] = {\"accuracy\": accuracy_SVM, \n",
        "                  \"precision\": precision_SVM, \n",
        "                  \"recall\": recall_SVM, \n",
        "                  \"f1_score\": f1_SVM\n",
        "                 }\n",
        "print(results[\"SVM\"])"
      ]
    },
    {
      "cell_type": "markdown",
      "metadata": {
        "id": "XbzLJe1Q86z-"
      },
      "source": [
        "# Building a Machine Learning Naive Bayes  Model\n",
        "What is Naive Bayes  Model? Naive Bayes is a simple technique for constructing classifiers: models that assign class labels to problem instances, represented as vectors of feature values, where the class labels are drawn from some finite set."
      ]
    },
    {
      "cell_type": "code",
      "execution_count": 12,
      "metadata": {
        "colab": {
          "base_uri": "https://localhost:8080/"
        },
        "id": "qCmBf55HyV6j",
        "outputId": "11fc65c7-dabc-4ed4-a3ab-efc0adf728cd"
      },
      "outputs": [
        {
          "output_type": "stream",
          "name": "stdout",
          "text": [
            "{'accuracy': 0.9458937198067633, 'precision': 0.9217855203936884, 'recall': 0.9507017543859648, 'f1_score': 0.9345427933829044}\n"
          ]
        }
      ],
      "source": [
        "# Train Naive Bayes model\n",
        "model_NB = GaussianNB()\n",
        "model_NB.fit(X_train, y_train)\n",
        "\n",
        "# Predict the target values for test set\n",
        "y_pred_NB = model_NB.predict(X_test)\n",
        "\n",
        "# Evaluate the Naive Bayes model\n",
        "accuracy_NB = accuracy_score(y_test, y_pred_NB)\n",
        "precision_NB = precision_score(y_test, y_pred_NB,average='macro',zero_division=0)\n",
        "recall_NB = recall_score(y_test, y_pred_NB,average='macro',zero_division=0)\n",
        "f1_NB = f1_score(y_test, y_pred_NB,average='macro',zero_division=0)\n",
        "\n",
        "# Store the results of Naive Bayes model in the dictionary\n",
        "results[\"Naive Bayes\"] = {\"accuracy\": accuracy_NB, \n",
        "                          \"precision\": precision_NB, \n",
        "                          \"recall\": recall_NB, \n",
        "                          \"f1_score\": f1_NB\n",
        "                         }\n",
        "print(results[\"Naive Bayes\"])"
      ]
    },
    {
      "cell_type": "markdown",
      "metadata": {
        "id": "8uAZSuYX86z_"
      },
      "source": [
        "# Building a Machine Learning Decision Tree Model\n",
        "What is Decision Tree Model? Decision trees are an approach used in supervised machine learning, a technique which uses labelled input and output datasets to train models. The approach is used mainly to solve classification problems, which is the use of a model to categorise or classify an object"
      ]
    },
    {
      "cell_type": "code",
      "execution_count": 13,
      "metadata": {
        "colab": {
          "base_uri": "https://localhost:8080/"
        },
        "id": "uVGa3dUly06o",
        "outputId": "6614c7d3-5f70-4bd3-ea19-53fa9d247bae"
      },
      "outputs": [
        {
          "output_type": "stream",
          "name": "stdout",
          "text": [
            "{'accuracy': 0.9304347826086956, 'precision': 0.907299951306606, 'recall': 0.9226315789473685, 'f1_score': 0.914484012228373}\n"
          ]
        }
      ],
      "source": [
        "# Train Decision Tree model\n",
        "model_DT = DecisionTreeClassifier()\n",
        "model_DT.fit(X_train, y_train)\n",
        "\n",
        "# Predict the target values for test set\n",
        "y_pred_DT = model_DT.predict(X_test)\n",
        "\n",
        "# Evaluate the Decision Tree model\n",
        "accuracy_DT = accuracy_score(y_test, y_pred_DT)\n",
        "precision_DT = precision_score(y_test, y_pred_DT,average='macro',zero_division=0)\n",
        "recall_DT = recall_score(y_test, y_pred_DT,average='macro',zero_division=0)\n",
        "f1_DT = f1_score(y_test, y_pred_DT,average='macro',zero_division=0)\n",
        "\n",
        "# Store the results of Decision Tree model in the dictionary\n",
        "results[\"Decision Tree\"] = {\"accuracy\": accuracy_DT, \n",
        "                            \"precision\": precision_DT, \n",
        "                            \"recall\": recall_DT, \n",
        "                            \"f1_score\": f1_DT\n",
        "                           }\n",
        "                         \n",
        "print(results[\"Decision Tree\"])"
      ]
    },
    {
      "cell_type": "markdown",
      "metadata": {
        "id": "c3QOI2qs86z_"
      },
      "source": [
        "# Building a Machine Learning Random Forest Model\n",
        "What is Random Forest Model? A random forest is a supervised machine learning algorithm that is constructed from decision tree algorithms,The (random forest) algorithm establishes the outcome based on the predictions of the decision trees. It predicts by taking the average or mean of the output from various trees. Increasing the number of trees increases the precision of the outcome."
      ]
    },
    {
      "cell_type": "code",
      "execution_count": 14,
      "metadata": {
        "id": "isZj2PoqzBRm",
        "colab": {
          "base_uri": "https://localhost:8080/"
        },
        "outputId": "fbe2c5c4-a82d-4f31-989c-80b54b897744"
      },
      "outputs": [
        {
          "output_type": "stream",
          "name": "stdout",
          "text": [
            "{'accuracy': 0.9681159420289855, 'precision': 0.9587098393574297, 'recall': 0.9616842105263157, 'f1_score': 0.960182144393499}\n"
          ]
        }
      ],
      "source": [
        "# Train Random Forest model\n",
        "model_RF = RandomForestClassifier()\n",
        "model_RF.fit(X_train, y_train)\n",
        "\n",
        "# Predict the target values for test set\n",
        "y_pred_RF = model_RF.predict(X_test)\n",
        "\n",
        "# Evaluate the Random Forest model\n",
        "accuracy_RF = accuracy_score(y_test, y_pred_RF)\n",
        "precision_RF = precision_score(y_test, y_pred_RF,average='macro',zero_division=0)\n",
        "recall_RF = recall_score(y_test, y_pred_RF,average='macro',zero_division=0)\n",
        "f1_RF = f1_score(y_test, y_pred_RF,average='macro',zero_division=0)\n",
        "\n",
        "# Store the results of Random Forest model in the dictionary\n",
        "results[\"Random Forest\"] = {\"accuracy\": accuracy_RF, \n",
        "                            \"precision\": precision_RF, \n",
        "                            \"recall\": recall_RF, \n",
        "                            \"f1_score\": f1_RF\n",
        "                           }\n",
        "print(results[\"Random Forest\"])"
      ]
    },
    {
      "cell_type": "markdown",
      "metadata": {
        "id": "8EAcizhm860A"
      },
      "source": [
        "# Building a Machine Learning Logistic Regression Model\n",
        "\n",
        "What is Logistic Regression?\n",
        "Logistic Regression is a “Supervised machine learning” algorithm that can be used to model the probability of a certain class or event. It is used when the data is linearly separable and the outcome is binary or dichotomous in nature.\n",
        "\n",
        "That means Logistic regression is usually used for Binary classification problems."
      ]
    },
    {
      "cell_type": "code",
      "execution_count": 15,
      "metadata": {
        "colab": {
          "base_uri": "https://localhost:8080/"
        },
        "id": "UhSR4XPv860A",
        "outputId": "ab621145-afa2-49ae-a116-36897be20cf6"
      },
      "outputs": [
        {
          "output_type": "stream",
          "name": "stdout",
          "text": [
            "{'accuracy': 0.966183574879227, 'precision': 0.9515306122448979, 'recall': 0.9657894736842105, 'f1_score': 0.9583009583009583}\n"
          ]
        },
        {
          "output_type": "stream",
          "name": "stderr",
          "text": [
            "/usr/local/lib/python3.9/dist-packages/sklearn/linear_model/_logistic.py:458: ConvergenceWarning: lbfgs failed to converge (status=1):\n",
            "STOP: TOTAL NO. of ITERATIONS REACHED LIMIT.\n",
            "\n",
            "Increase the number of iterations (max_iter) or scale the data as shown in:\n",
            "    https://scikit-learn.org/stable/modules/preprocessing.html\n",
            "Please also refer to the documentation for alternative solver options:\n",
            "    https://scikit-learn.org/stable/modules/linear_model.html#logistic-regression\n",
            "  n_iter_i = _check_optimize_result(\n"
          ]
        }
      ],
      "source": [
        "# Train Logistic Regression model\n",
        "model_LR = LogisticRegression(solver='lbfgs',max_iter=1000)\n",
        "model_LR.fit(X_train, y_train)\n",
        "\n",
        "# Predict the target values for test set\n",
        "y_pred_LR = model_LR.predict(X_test)\n",
        "\n",
        "# Evaluate the Logistic Regression model\n",
        "accuracy_LR = accuracy_score(y_test, y_pred_LR)\n",
        "precision_LR = precision_score(y_test, y_pred_LR,average='macro',zero_division=0)\n",
        "recall_LR = recall_score(y_test, y_pred_LR,average='macro',zero_division=0)\n",
        "f1_LR = f1_score(y_test, y_pred_LR,average='macro',zero_division=0)\n",
        "\n",
        "# Store the results of Logistic Regression model in the dictionary\n",
        "results[\"Logistic Regression\"] = {\"accuracy\": accuracy_LR, \n",
        "                                  \"precision\": precision_LR, \n",
        "                                  \"recall\": recall_LR, \n",
        "                                  \"f1_score\": f1_LR\n",
        "                                 }\n",
        "print(results[\"Logistic Regression\"])"
      ]
    },
    {
      "cell_type": "markdown",
      "metadata": {
        "id": "0pUPDjHu860A"
      },
      "source": [
        "# Building a tensor flow Relu model\n"
      ]
    },
    {
      "cell_type": "code",
      "execution_count": 16,
      "metadata": {
        "id": "w-FL_u3_860A"
      },
      "outputs": [],
      "source": [
        "# Create a StandardScaler instances\n",
        "scaler = StandardScaler()\n",
        "\n",
        "# Fit the StandardScaler\n",
        "X_scaler = scaler.fit(X_train)\n",
        "\n",
        "# Scale the data\n",
        "X_train_scaled = X_scaler.transform(X_train)\n",
        "X_test_scaled = X_scaler.transform(X_test)"
      ]
    },
    {
      "cell_type": "code",
      "execution_count": 17,
      "metadata": {
        "colab": {
          "base_uri": "https://localhost:8080/"
        },
        "id": "hsPrzViy860B",
        "outputId": "126d148f-71cc-4477-ec1f-d56486189e45"
      },
      "outputs": [
        {
          "output_type": "stream",
          "name": "stdout",
          "text": [
            "Model: \"sequential\"\n",
            "_________________________________________________________________\n",
            " Layer (type)                Output Shape              Param #   \n",
            "=================================================================\n",
            " dense (Dense)               (None, 4400)              9618400   \n",
            "                                                                 \n",
            " dense_1 (Dense)             (None, 2200)              9682200   \n",
            "                                                                 \n",
            " dense_2 (Dense)             (None, 1)                 2201      \n",
            "                                                                 \n",
            "=================================================================\n",
            "Total params: 19,302,801\n",
            "Trainable params: 19,302,801\n",
            "Non-trainable params: 0\n",
            "_________________________________________________________________\n"
          ]
        }
      ],
      "source": [
        "# Define the model - deep neural net, i.e., the number of input features and hidden nodes for each layer.\n",
        "number_input_features = len(X_train_scaled[0])\n",
        "hidden_nodes_layer1=4400\n",
        "hidden_nodes_layer2=2200\n",
        "\n",
        "from keras import backend as K\n",
        "\n",
        "def recall_m(y_true, y_pred):\n",
        "    true_positives = K.sum(K.round(K.clip(y_true * y_pred, 0, 1)))\n",
        "    possible_positives = K.sum(K.round(K.clip(y_true, 0, 1)))\n",
        "    recall = true_positives / (possible_positives + K.epsilon())\n",
        "    return recall\n",
        "\n",
        "def precision_m(y_true, y_pred):\n",
        "    true_positives = K.sum(K.round(K.clip(y_true * y_pred, 0, 1)))\n",
        "    predicted_positives = K.sum(K.round(K.clip(y_pred, 0, 1)))\n",
        "    precision = true_positives / (predicted_positives + K.epsilon())\n",
        "    return precision\n",
        "\n",
        "def f1_m(y_true, y_pred):\n",
        "    precision = precision_m(y_true, y_pred)\n",
        "    recall = recall_m(y_true, y_pred)\n",
        "    return 2*((precision*recall)/(precision+recall+K.epsilon()))\n",
        "\n",
        "\n",
        "nn = tf.keras.models.Sequential()\n",
        "\n",
        "# First hidden layer\n",
        "nn.add(tf.keras.layers.Dense(units=hidden_nodes_layer1, input_dim=number_input_features, activation='relu'))\n",
        "\n",
        "# Second hidden layer\n",
        "nn.add(tf.keras.layers.Dense(units=hidden_nodes_layer2, activation='relu'))\n",
        "\n",
        "# Output layer\n",
        "nn.add(tf.keras.layers.Dense(units=1, activation='sigmoid'))\n",
        "\n",
        "# Check the structure of the model\n",
        "nn.summary()"
      ]
    },
    {
      "cell_type": "code",
      "execution_count": 18,
      "metadata": {
        "id": "FyEABmlu860B"
      },
      "outputs": [],
      "source": [
        "# Compile the model\n",
        "nn.compile(loss = 'binary_crossentropy', optimizer='adam', metrics=['accuracy',f1_m,precision_m, recall_m])"
      ]
    },
    {
      "cell_type": "code",
      "execution_count": 19,
      "metadata": {
        "colab": {
          "base_uri": "https://localhost:8080/"
        },
        "id": "jniX0Mum860B",
        "outputId": "69913b74-ea99-4d09-b6fe-b977ef1388f2"
      },
      "outputs": [
        {
          "output_type": "stream",
          "name": "stdout",
          "text": [
            "Epoch 1/10\n",
            "130/130 [==============================] - 42s 312ms/step - loss: 0.4342 - accuracy: 0.9301 - f1_m: 0.8667 - precision_m: 0.8979 - recall_m: 0.8699\n",
            "Epoch 2/10\n",
            "130/130 [==============================] - 41s 319ms/step - loss: 0.0475 - accuracy: 0.9826 - f1_m: 0.9713 - precision_m: 0.9725 - recall_m: 0.9748\n",
            "Epoch 3/10\n",
            "130/130 [==============================] - 44s 340ms/step - loss: 0.0157 - accuracy: 0.9937 - f1_m: 0.9875 - precision_m: 0.9843 - recall_m: 0.9926\n",
            "Epoch 4/10\n",
            "130/130 [==============================] - 41s 317ms/step - loss: 0.0068 - accuracy: 0.9978 - f1_m: 0.9962 - precision_m: 0.9950 - recall_m: 0.9978\n",
            "Epoch 5/10\n",
            "130/130 [==============================] - 41s 312ms/step - loss: 0.0140 - accuracy: 0.9956 - f1_m: 0.9927 - precision_m: 0.9932 - recall_m: 0.9932\n",
            "Epoch 6/10\n",
            "130/130 [==============================] - 43s 333ms/step - loss: 0.0063 - accuracy: 0.9976 - f1_m: 0.9944 - precision_m: 0.9971 - recall_m: 0.9932\n",
            "Epoch 7/10\n",
            "130/130 [==============================] - 43s 331ms/step - loss: 0.0145 - accuracy: 0.9952 - f1_m: 0.9834 - precision_m: 0.9850 - recall_m: 0.9834\n",
            "Epoch 8/10\n",
            "130/130 [==============================] - 41s 319ms/step - loss: 0.0112 - accuracy: 0.9959 - f1_m: 0.9933 - precision_m: 0.9935 - recall_m: 0.9942\n",
            "Epoch 9/10\n",
            "130/130 [==============================] - 40s 309ms/step - loss: 0.0240 - accuracy: 0.9913 - f1_m: 0.9857 - precision_m: 0.9909 - recall_m: 0.9832\n",
            "Epoch 10/10\n",
            "130/130 [==============================] - 40s 309ms/step - loss: 0.1424 - accuracy: 0.9901 - f1_m: 0.9805 - precision_m: 0.9796 - recall_m: 0.9844\n"
          ]
        }
      ],
      "source": [
        "# Train the model\n",
        "fit_model = nn.fit(X_train_scaled, y_train, epochs=10)"
      ]
    },
    {
      "cell_type": "code",
      "execution_count": 20,
      "metadata": {
        "colab": {
          "base_uri": "https://localhost:8080/"
        },
        "id": "Lk8E_S7n860B",
        "outputId": "52c71e9f-44e7-4f5c-ef9f-dbe5d825aa57"
      },
      "outputs": [
        {
          "output_type": "stream",
          "name": "stdout",
          "text": [
            "33/33 - 2s - loss: 0.8825 - accuracy: 0.9420 - f1_m: 0.8902 - precision_m: 0.8590 - recall_m: 0.9430 - 2s/epoch - 49ms/step\n"
          ]
        }
      ],
      "source": [
        "# Evaluate the model using the test data\n",
        "loss, accuracy, f1_score, precision, recall= nn.evaluate(X_test_scaled,y_test,verbose=2)\n"
      ]
    },
    {
      "cell_type": "code",
      "source": [
        "\n",
        "# Store the results of Tensorflow model in the dictionary\n",
        "results[\"Tensorflow\"] = {\"accuracy\": accuracy, \n",
        "                                  \"precision\": precision, \n",
        "                                  \"recall\": recall, \n",
        "                                  \"f1_score\": f1_score\n",
        "                                 }\n",
        "print(results[\"Tensorflow\"])"
      ],
      "metadata": {
        "colab": {
          "base_uri": "https://localhost:8080/"
        },
        "id": "DLU-ooYIAh2o",
        "outputId": "c701bb10-0a69-45bb-f75f-f4f3a26d4078"
      },
      "execution_count": 21,
      "outputs": [
        {
          "output_type": "stream",
          "name": "stdout",
          "text": [
            "{'accuracy': 0.9420289993286133, 'precision': 0.8589954972267151, 'recall': 0.9429894089698792, 'f1_score': 0.8901594877243042}\n"
          ]
        }
      ]
    },
    {
      "cell_type": "markdown",
      "source": [
        "Optamization A of tensor flow model"
      ],
      "metadata": {
        "id": "bkHlHAHa_OOZ"
      }
    },
    {
      "cell_type": "code",
      "source": [
        "# Define the model - deep neural net, i.e., the number of input features and hidden nodes for each layer.\n",
        "number_input_features = len(X_train[0])\n",
        "hidden_nodes_layer1=1000\n",
        "hidden_nodes_layer2=2000\n",
        "hidden_nodes_layer3 =3000\n",
        "hidden_nodes_layer4 =4000\n",
        "\n",
        "from keras import backend as K\n",
        "\n",
        "def recall_m(y_true, y_pred):\n",
        "    true_positives = K.sum(K.round(K.clip(y_true * y_pred, 0, 1)))\n",
        "    possible_positives = K.sum(K.round(K.clip(y_true, 0, 1)))\n",
        "    recall = true_positives / (possible_positives + K.epsilon())\n",
        "    return recall\n",
        "\n",
        "def precision_m(y_true, y_pred):\n",
        "    true_positives = K.sum(K.round(K.clip(y_true * y_pred, 0, 1)))\n",
        "    predicted_positives = K.sum(K.round(K.clip(y_pred, 0, 1)))\n",
        "    precision = true_positives / (predicted_positives + K.epsilon())\n",
        "    return precision\n",
        "\n",
        "def f1_m(y_true, y_pred):\n",
        "    precision = precision_m(y_true, y_pred)\n",
        "    recall = recall_m(y_true, y_pred)\n",
        "    return 2*((precision*recall)/(precision+recall+K.epsilon()))\n",
        "\n",
        "nnopt_a = tf.keras.models.Sequential()\n",
        "\n",
        "# First hidden layer\n",
        "nnopt_a.add(tf.keras.layers.Dense(units=hidden_nodes_layer1, input_dim=number_input_features, activation='relu'))\n",
        "\n",
        "# Second hidden layer\n",
        "nnopt_a.add(tf.keras.layers.Dense(units=hidden_nodes_layer2, activation='relu'))\n",
        "\n",
        "# Third hidden layer\n",
        "nnopt_a.add(tf.keras.layers.Dense(units=hidden_nodes_layer3, activation=\"relu\"))\n",
        "\n",
        "# Fourth hidden layer\n",
        "nnopt_a.add(tf.keras.layers.Dense(units=hidden_nodes_layer4, activation=\"relu\"))\n",
        "\n",
        "# Output layer\n",
        "nnopt_a.add(tf.keras.layers.Dense(units=1, activation='sigmoid'))\n",
        "\n",
        "# Check the structure of the model\n",
        "nnopt_a.summary()"
      ],
      "metadata": {
        "colab": {
          "base_uri": "https://localhost:8080/"
        },
        "id": "naFne20w_M45",
        "outputId": "58da52f1-cf35-4169-e78f-770abb62512c"
      },
      "execution_count": 39,
      "outputs": [
        {
          "output_type": "stream",
          "name": "stdout",
          "text": [
            "Model: \"sequential_2\"\n",
            "_________________________________________________________________\n",
            " Layer (type)                Output Shape              Param #   \n",
            "=================================================================\n",
            " dense_7 (Dense)             (None, 1000)              2186000   \n",
            "                                                                 \n",
            " dense_8 (Dense)             (None, 2000)              2002000   \n",
            "                                                                 \n",
            " dense_9 (Dense)             (None, 3000)              6003000   \n",
            "                                                                 \n",
            " dense_10 (Dense)            (None, 4000)              12004000  \n",
            "                                                                 \n",
            " dense_11 (Dense)            (None, 1)                 4001      \n",
            "                                                                 \n",
            "=================================================================\n",
            "Total params: 22,199,001\n",
            "Trainable params: 22,199,001\n",
            "Non-trainable params: 0\n",
            "_________________________________________________________________\n"
          ]
        }
      ]
    },
    {
      "cell_type": "code",
      "source": [
        "# Compile the model\n",
        "nnopt_a.compile(loss = 'binary_crossentropy', optimizer='adam', metrics=['accuracy',f1_m,precision_m, recall_m])\n"
      ],
      "metadata": {
        "id": "JJWqx5E9_TJ5"
      },
      "execution_count": 41,
      "outputs": []
    },
    {
      "cell_type": "code",
      "source": [
        "fit_model = nnopt_a.fit(X_train_scaled, y_train, epochs=20)\n"
      ],
      "metadata": {
        "colab": {
          "base_uri": "https://localhost:8080/"
        },
        "id": "pPsHacmd_WYS",
        "outputId": "9fe677c1-5807-40a3-df17-1b62f574db32"
      },
      "execution_count": 42,
      "outputs": [
        {
          "output_type": "stream",
          "name": "stdout",
          "text": [
            "Epoch 1/20\n",
            "130/130 [==============================] - 48s 355ms/step - loss: 0.3097 - accuracy: 0.9103 - f1_m: 0.8013 - precision_m: 0.8313 - recall_m: 0.8132\n",
            "Epoch 2/20\n",
            "130/130 [==============================] - 57s 440ms/step - loss: 0.0596 - accuracy: 0.9860 - f1_m: 0.9741 - precision_m: 0.9727 - recall_m: 0.9792\n",
            "Epoch 3/20\n",
            "130/130 [==============================] - 44s 342ms/step - loss: 0.0448 - accuracy: 0.9853 - f1_m: 0.9755 - precision_m: 0.9761 - recall_m: 0.9777\n",
            "Epoch 4/20\n",
            "130/130 [==============================] - 45s 350ms/step - loss: 0.0341 - accuracy: 0.9901 - f1_m: 0.9818 - precision_m: 0.9869 - recall_m: 0.9799\n",
            "Epoch 5/20\n",
            "130/130 [==============================] - 46s 351ms/step - loss: 0.0412 - accuracy: 0.9911 - f1_m: 0.9848 - precision_m: 0.9847 - recall_m: 0.9875\n",
            "Epoch 6/20\n",
            "130/130 [==============================] - 44s 341ms/step - loss: 0.1061 - accuracy: 0.9853 - f1_m: 0.9727 - precision_m: 0.9873 - recall_m: 0.9630\n",
            "Epoch 7/20\n",
            "130/130 [==============================] - 45s 343ms/step - loss: 0.0460 - accuracy: 0.9901 - f1_m: 0.9816 - precision_m: 0.9848 - recall_m: 0.9808\n",
            "Epoch 8/20\n",
            "130/130 [==============================] - 44s 339ms/step - loss: 0.0380 - accuracy: 0.9915 - f1_m: 0.9840 - precision_m: 0.9929 - recall_m: 0.9785\n",
            "Epoch 9/20\n",
            "130/130 [==============================] - 44s 340ms/step - loss: 0.0149 - accuracy: 0.9959 - f1_m: 0.9931 - precision_m: 0.9925 - recall_m: 0.9946\n",
            "Epoch 10/20\n",
            "130/130 [==============================] - 42s 326ms/step - loss: 0.0093 - accuracy: 0.9964 - f1_m: 0.9937 - precision_m: 0.9925 - recall_m: 0.9956\n",
            "Epoch 11/20\n",
            "130/130 [==============================] - 42s 320ms/step - loss: 0.0166 - accuracy: 0.9927 - f1_m: 0.9866 - precision_m: 0.9904 - recall_m: 0.9849\n",
            "Epoch 12/20\n",
            "130/130 [==============================] - 43s 329ms/step - loss: 0.0085 - accuracy: 0.9969 - f1_m: 0.9950 - precision_m: 0.9975 - recall_m: 0.9931\n",
            "Epoch 13/20\n",
            "130/130 [==============================] - 44s 334ms/step - loss: 0.0644 - accuracy: 0.9898 - f1_m: 0.9816 - precision_m: 0.9889 - recall_m: 0.9781\n",
            "Epoch 14/20\n",
            "130/130 [==============================] - 42s 326ms/step - loss: 0.4817 - accuracy: 0.9768 - f1_m: 0.9566 - precision_m: 0.9653 - recall_m: 0.9571\n",
            "Epoch 15/20\n",
            "130/130 [==============================] - 44s 340ms/step - loss: 0.9212 - accuracy: 0.9802 - f1_m: 0.9660 - precision_m: 0.9684 - recall_m: 0.9678\n",
            "Epoch 16/20\n",
            "130/130 [==============================] - 39s 301ms/step - loss: 0.4266 - accuracy: 0.9906 - f1_m: 0.9828 - precision_m: 0.9835 - recall_m: 0.9857\n",
            "Epoch 17/20\n",
            "130/130 [==============================] - 43s 327ms/step - loss: 0.0138 - accuracy: 0.9937 - f1_m: 0.9899 - precision_m: 0.9899 - recall_m: 0.9912\n",
            "Epoch 18/20\n",
            "130/130 [==============================] - 42s 322ms/step - loss: 0.0078 - accuracy: 0.9978 - f1_m: 0.9959 - precision_m: 0.9949 - recall_m: 0.9973\n",
            "Epoch 19/20\n",
            "130/130 [==============================] - 43s 331ms/step - loss: 0.0054 - accuracy: 0.9976 - f1_m: 0.9954 - precision_m: 0.9943 - recall_m: 0.9970\n",
            "Epoch 20/20\n",
            "130/130 [==============================] - 42s 325ms/step - loss: 0.0049 - accuracy: 0.9988 - f1_m: 0.9975 - precision_m: 0.9974 - recall_m: 0.9979\n"
          ]
        }
      ]
    },
    {
      "cell_type": "code",
      "source": [
        "# Evaluate the model using the test data\n",
        "loss, accuracy, f1_score, precision, recall= nnopt_a.evaluate(X_test_scaled,y_test,verbose=2)"
      ],
      "metadata": {
        "id": "7RBWLPQM_ZgC",
        "colab": {
          "base_uri": "https://localhost:8080/"
        },
        "outputId": "a447a3d5-26ba-4466-d4e8-26b7931957f8"
      },
      "execution_count": 43,
      "outputs": [
        {
          "output_type": "stream",
          "name": "stdout",
          "text": [
            "33/33 - 3s - loss: 6.1836 - accuracy: 0.9700 - f1_m: 0.9385 - precision_m: 0.9141 - recall_m: 0.9727 - 3s/epoch - 80ms/step\n"
          ]
        }
      ]
    },
    {
      "cell_type": "code",
      "source": [
        "#### Create a DataFrame containing training history\n",
        "opta_history_df = pd.DataFrame(fit_model.history)\n",
        "opta_history_df.index += 1\n",
        "\n",
        "#### Plot the accuracy\n",
        "opta_accuracy = opta_history_df.plot(y=\"accuracy\")\n"
      ],
      "metadata": {
        "id": "si7lBe4D_Z_V",
        "colab": {
          "base_uri": "https://localhost:8080/",
          "height": 430
        },
        "outputId": "1b6fe0f6-d57f-4279-b419-58bb8901dd5f"
      },
      "execution_count": 26,
      "outputs": [
        {
          "output_type": "display_data",
          "data": {
            "text/plain": [
              "<Figure size 640x480 with 1 Axes>"
            ],
            "image/png": "[encoded data removed]"
          },
          "metadata": {}
        }
      ]
    },
    {
      "cell_type": "code",
      "source": [
        "# Store the results of Tensorflow model in the dictionary\n",
        "results[\"Tensorflow OPT A\"] = {\"accuracy\": accuracy, \n",
        "                                  \"precision\": precision, \n",
        "                                  \"recall\": recall, \n",
        "                                  \"f1_score\": f1_score\n",
        "                                 }\n",
        "print(results[\"Tensorflow OPT A\"])"
      ],
      "metadata": {
        "id": "z3hUVq1s_elJ",
        "colab": {
          "base_uri": "https://localhost:8080/"
        },
        "outputId": "273651a8-a8e9-4afa-bebd-eb7bfc399457"
      },
      "execution_count": 44,
      "outputs": [
        {
          "output_type": "stream",
          "name": "stdout",
          "text": [
            "{'accuracy': 0.9700483083724976, 'precision': 0.9141188859939575, 'recall': 0.9727393388748169, 'f1_score': 0.9385428428649902}\n"
          ]
        }
      ]
    },
    {
      "cell_type": "markdown",
      "metadata": {
        "id": "jN2RU1Ru860C"
      },
      "source": [
        "# Model Visuals and Analysis"
      ]
    },
    {
      "cell_type": "code",
      "execution_count": 28,
      "metadata": {
        "id": "NHbg1g8Ey1qC"
      },
      "outputs": [],
      "source": [
        "# Create a StandardScaler instances\n",
        "scaler = StandardScaler()\n",
        "\n",
        "# Fit the StandardScaler\n",
        "X_scaler = scaler.fit(X_train)\n",
        "\n",
        "# Scale the data\n",
        "X_train_scaled = X_scaler.transform(X_train)\n",
        "X_test_scaled = X_scaler.transform(X_test)"
      ]
    },
    {
      "cell_type": "code",
      "execution_count": 45,
      "metadata": {
        "id": "CSOfJBEC860B",
        "colab": {
          "base_uri": "https://localhost:8080/"
        },
        "outputId": "9274cd89-36e7-4aa2-ec61-64646ec1a850"
      },
      "outputs": [
        {
          "output_type": "execute_result",
          "data": {
            "text/plain": [
              "{'KNN': {'accuracy': 0.8521739130434782,\n",
              "  'precision': 0.8117335990190067,\n",
              "  'recall': 0.8425263157894737,\n",
              "  'f1_score': 0.8240165631469979},\n",
              " 'SVM': {'accuracy': 0.7951690821256039,\n",
              "  'precision': 0.8001954056731864,\n",
              "  'recall': 0.6530877192982456,\n",
              "  'f1_score': 0.6739983121961656},\n",
              " 'Naive Bayes': {'accuracy': 0.9458937198067633,\n",
              "  'precision': 0.9217855203936884,\n",
              "  'recall': 0.9507017543859648,\n",
              "  'f1_score': 0.9345427933829044},\n",
              " 'Decision Tree': {'accuracy': 0.9304347826086956,\n",
              "  'precision': 0.907299951306606,\n",
              "  'recall': 0.9226315789473685,\n",
              "  'f1_score': 0.914484012228373},\n",
              " 'Random Forest': {'accuracy': 0.9681159420289855,\n",
              "  'precision': 0.9587098393574297,\n",
              "  'recall': 0.9616842105263157,\n",
              "  'f1_score': 0.960182144393499},\n",
              " 'Logistic Regression': {'accuracy': 0.966183574879227,\n",
              "  'precision': 0.9515306122448979,\n",
              "  'recall': 0.9657894736842105,\n",
              "  'f1_score': 0.9583009583009583},\n",
              " 'Tensorflow': {'accuracy': 0.9420289993286133,\n",
              "  'precision': 0.8589954972267151,\n",
              "  'recall': 0.9429894089698792,\n",
              "  'f1_score': 0.8901594877243042},\n",
              " 'Tensorflow OPT A': {'accuracy': 0.9700483083724976,\n",
              "  'precision': 0.9141188859939575,\n",
              "  'recall': 0.9727393388748169,\n",
              "  'f1_score': 0.9385428428649902}}"
            ]
          },
          "metadata": {},
          "execution_count": 45
        }
      ],
      "source": [
        "# Print the final results of all models\n",
        "results"
      ]
    },
    {
      "cell_type": "code",
      "source": [
        "results_df = pd.DataFrame.from_dict(results)\n",
        "print(results_df)"
      ],
      "metadata": {
        "id": "fBJi2Lj4C3ht",
        "colab": {
          "base_uri": "https://localhost:8080/"
        },
        "outputId": "46750b1e-33ea-4456-ea09-e34537167904"
      },
      "execution_count": 46,
      "outputs": [
        {
          "output_type": "stream",
          "name": "stdout",
          "text": [
            "                KNN       SVM  Naive Bayes  Decision Tree  Random Forest  \\\n",
            "accuracy   0.852174  0.795169     0.945894       0.930435       0.968116   \n",
            "precision  0.811734  0.800195     0.921786       0.907300       0.958710   \n",
            "recall     0.842526  0.653088     0.950702       0.922632       0.961684   \n",
            "f1_score   0.824017  0.673998     0.934543       0.914484       0.960182   \n",
            "\n",
            "           Logistic Regression  Tensorflow  Tensorflow OPT A  \n",
            "accuracy              0.966184    0.942029          0.970048  \n",
            "precision             0.951531    0.858995          0.914119  \n",
            "recall                0.965789    0.942989          0.972739  \n",
            "f1_score              0.958301    0.890159          0.938543  \n"
          ]
        }
      ]
    },
    {
      "cell_type": "code",
      "source": [
        "from google.colab import files\n",
        "results_df.to_csv('results.csv', encoding = 'utf-8-sig') \n",
        "files.download('results.csv')"
      ],
      "metadata": {
        "id": "f23ovPr5IpS7",
        "colab": {
          "base_uri": "https://localhost:8080/",
          "height": 17
        },
        "outputId": "f383c828-738c-495b-c553-8099001892c6"
      },
      "execution_count": 53,
      "outputs": [
        {
          "output_type": "display_data",
          "data": {
            "text/plain": [
              "<IPython.core.display.Javascript object>"
            ],
            "application/javascript": [
              "\n",
              "    async function download(id, filename, size) {\n",
              "      if (!google.colab.kernel.accessAllowed) {\n",
              "        return;\n",
              "      }\n",
              "      const div = document.createElement('div');\n",
              "      const label = document.createElement('label');\n",
              "      label.textContent = `Downloading \"${filename}\": `;\n",
              "      div.appendChild(label);\n",
              "      const progress = document.createElement('progress');\n",
              "      progress.max = size;\n",
              "      div.appendChild(progress);\n",
              "      document.body.appendChild(div);\n",
              "\n",
              "      const buffers = [];\n",
              "      let downloaded = 0;\n",
              "\n",
              "      const channel = await google.colab.kernel.comms.open(id);\n",
              "      // Send a message to notify the kernel that we're ready.\n",
              "      channel.send({})\n",
              "\n",
              "      for await (const message of channel.messages) {\n",
              "        // Send a message to notify the kernel that we're ready.\n",
              "        channel.send({})\n",
              "        if (message.buffers) {\n",
              "          for (const buffer of message.buffers) {\n",
              "            buffers.push(buffer);\n",
              "            downloaded += buffer.byteLength;\n",
              "            progress.value = downloaded;\n",
              "          }\n",
              "        }\n",
              "      }\n",
              "      const blob = new Blob(buffers, {type: 'application/binary'});\n",
              "      const a = document.createElement('a');\n",
              "      a.href = window.URL.createObjectURL(blob);\n",
              "      a.download = filename;\n",
              "      div.appendChild(a);\n",
              "      a.click();\n",
              "      div.remove();\n",
              "    }\n",
              "  "
            ]
          },
          "metadata": {}
        },
        {
          "output_type": "display_data",
          "data": {
            "text/plain": [
              "<IPython.core.display.Javascript object>"
            ],
            "application/javascript": [
              "download(\"download_798ec4b5-0e23-4d72-9b51-e2a897bf9a79\", \"results.csv\", 739)"
            ]
          },
          "metadata": {}
        }
      ]
    },
    {
      "cell_type": "code",
      "source": [],
      "metadata": {
        "id": "fJ565MXCHxTv"
      },
      "execution_count": 31,
      "outputs": []
    },
    {
      "cell_type": "code",
      "execution_count": 48,
      "metadata": {
        "id": "XfqaDgKNzKr4",
        "colab": {
          "base_uri": "https://localhost:8080/",
          "height": 564
        },
        "outputId": "e4013b4e-48bc-4dfa-aec6-87258f1d99e0"
      },
      "outputs": [
        {
          "output_type": "display_data",
          "data": {
            "text/plain": [
              "<Figure size 1000x600 with 1 Axes>"
            ],
            "image/png": "[encoded data removed]"
          },
          "metadata": {}
        }
      ],
      "source": [
        "# Plot the accuracy of all models\n",
        "plt.figure(figsize=(10,6))\n",
        "plt.bar(results.keys(), [result[\"accuracy\"] for result in results.values()])\n",
        "plt.title(\"Accuracy of Different Models\")\n",
        "plt.xlabel(\"Models\")\n",
        "plt.ylabel(\"Accuracy\")\n",
        "plt.ylim(0, 1)\n",
        "plt.show()"
      ]
    },
    {
      "cell_type": "code",
      "execution_count": 49,
      "metadata": {
        "id": "EJyqEPvNzVvv",
        "colab": {
          "base_uri": "https://localhost:8080/",
          "height": 641
        },
        "outputId": "083a7043-7886-4db6-a727-5ab282c70503"
      },
      "outputs": [
        {
          "output_type": "display_data",
          "data": {
            "text/plain": [
              "<Figure size 1000x700 with 1 Axes>"
            ],
            "image/png": "[encoded data removed]"
          },
          "metadata": {}
        }
      ],
      "source": [
        "# Plot the precision of all models\n",
        "plt.figure(figsize=(10,7))\n",
        "plt.bar(results.keys(), [result[\"precision\"] for result in results.values()])\n",
        "plt.title(\"Precision of Different Models\")\n",
        "plt.xlabel(\"Models\")\n",
        "plt.ylabel(\"Precision\")\n",
        "plt.ylim(0, 1)\n",
        "plt.show()"
      ]
    },
    {
      "cell_type": "code",
      "execution_count": 50,
      "metadata": {
        "id": "MRr0zyr2zZJU",
        "colab": {
          "base_uri": "https://localhost:8080/",
          "height": 641
        },
        "outputId": "bf3b009a-8bb5-4ede-c982-9cda6d178795"
      },
      "outputs": [
        {
          "output_type": "display_data",
          "data": {
            "text/plain": [
              "<Figure size 1000x700 with 1 Axes>"
            ],
            "image/png": "[encoded data removed]"
          },
          "metadata": {}
        }
      ],
      "source": [
        "# Plot the recall of all models\n",
        "plt.figure(figsize=(10,7))\n",
        "plt.bar(results.keys(), [result[\"recall\"] for result in results.values()])\n",
        "plt.title(\"Recall of Different Models\")\n",
        "plt.xlabel(\"Models\")\n",
        "plt.ylabel(\"Recall\")\n",
        "plt.ylim(0, 1)\n",
        "plt.show()"
      ]
    },
    {
      "cell_type": "code",
      "execution_count": 51,
      "metadata": {
        "id": "K12rEOI_za9W",
        "colab": {
          "base_uri": "https://localhost:8080/",
          "height": 641
        },
        "outputId": "67caf468-3d13-4276-a134-39c250405d4b"
      },
      "outputs": [
        {
          "output_type": "display_data",
          "data": {
            "text/plain": [
              "<Figure size 1000x700 with 1 Axes>"
            ],
            "image/png": "[encoded data removed]"
          },
          "metadata": {}
        }
      ],
      "source": [
        "# Plot the F1-score of all models\n",
        "plt.figure(figsize=(10,7))\n",
        "plt.bar(results.keys(), [result[\"f1_score\"] for result in results.values()])\n",
        "plt.title(\"F1-Score of Different Models\")\n",
        "plt.xlabel(\"Models\")\n",
        "plt.ylabel(\"F1-Score\")\n",
        "plt.ylim(0, 1)\n",
        "plt.show()"
      ]
    },
    {
      "cell_type": "code",
      "execution_count": 52,
      "metadata": {
        "scrolled": true,
        "id": "hlN-LAUO860D",
        "colab": {
          "base_uri": "https://localhost:8080/",
          "height": 549
        },
        "outputId": "4587f3d7-b154-48d1-9e1f-2079e4193a56"
      },
      "outputs": [
        {
          "output_type": "display_data",
          "data": {
            "text/plain": [
              "<Figure size 640x480 with 1 Axes>"
            ],
            "image/png": "[encoded data removed]"
          },
          "metadata": {}
        }
      ],
      "source": [
        "# extract metrics values\n",
        "accuracies = [results[model]['accuracy'] for model in results]\n",
        "precisions = [results[model]['precision'] for model in results]\n",
        "recalls = [results[model]['recall'] for model in results]\n",
        "f1_scores = [results[model]['f1_score'] for model in results]\n",
        "\n",
        "# plot bar chart\n",
        "bar_width = 0.2\n",
        "index = np.arange(len(results))\n",
        "\n",
        "plt.bar(index, accuracies, bar_width, label='Accuracy')\n",
        "plt.bar(index + bar_width, precisions, bar_width, label='Precision')\n",
        "plt.bar(index + 2 * bar_width, recalls, bar_width, label='Recall')\n",
        "plt.bar(index + 3 * bar_width, f1_scores, bar_width, label='F1 Score')\n",
        "\n",
        "plt.xticks(index + bar_width, list(results.keys()), rotation ='vertical')\n",
        "plt.legend(bbox_to_anchor=(1.05, 1), loc=2, borderaxespad=0.)\n",
        "\n",
        "plt.show()"
      ]
    },
    {
      "cell_type": "markdown",
      "metadata": {
        "id": "_yVEI7oX860D"
      },
      "source": [
        "Conclusion:\n",
        "\n",
        "![image-4.png](attachment:image-4.png)\n",
        "\n",
        "\n",
        "Based on the model performance outcome, the 'Logistic Regression' model appears to be the best among all the models with highest accuracy (0.997), precision (0.523), recall (0.665) and f1_score (0.575). Suggesting Logistic Regression model has the uppermost aptitude to fittingly classify emails as Spam or not spam, with minimal false positives and false negatives.\n",
        "\n",
        "SVM Model is more effective in high dimensional spaces. This data sets have two out comes – Spam and Not spam\n",
        "\n",
        "It is worth observing that the performance of a model is subjected on the specific use of the case and problem at hand. For instance, if the cost of misclassifying an email as spam when it is not is higher, then a model with a high recall (even if its precision is lower) might be more desirable.\n",
        "\n"
      ]
    },
    {
      "cell_type": "code",
      "source": [],
      "metadata": {
        "id": "1D1FfyKfVSVo"
      },
      "execution_count": null,
      "outputs": []
    }
  ],
  "metadata": {
    "colab": {
      "provenance": []
    },
    "kernelspec": {
      "display_name": "Python 3 (ipykernel)",
      "language": "python",
      "name": "python3"
    },
    "language_info": {
      "codemirror_mode": {
        "name": "ipython",
        "version": 3
      },
      "file_extension": ".py",
      "mimetype": "text/x-python",
      "name": "python",
      "nbconvert_exporter": "python",
      "pygments_lexer": "ipython3",
      "version": "3.11.1"
    }
  },
  "nbformat": 4,
  "nbformat_minor": 0
}
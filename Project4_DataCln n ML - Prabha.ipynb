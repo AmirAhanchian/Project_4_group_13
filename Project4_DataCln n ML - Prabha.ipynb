{
 "cells": [
  {
   "cell_type": "markdown",
   "metadata": {
    "colab": {
     "base_uri": "https://localhost:8080/",
     "height": 73
    },
    "id": "12-_0OY_YRB-",
    "outputId": "87a652d2-3c44-4a02-e43a-37ccdebfa559"
   },
   "source": [
    "# Outline/Purpose:\n",
    "\n",
    "The overall purpose of this project is to train a machine learning model on the assumed email data to forecast if an email is spam or not spam, and to pick the best preferred model for this classification task.\n",
    "\n",
    "\n",
    "1.\tPre-process the data: Clean the data-set and eliminate any irrelevant information. As our data is already in numerical arrangement converting it was not essential.\n",
    "2.\tTraining the models: This step includes splitting our data set into Training data and Test data. Ultimately ‘Train’ several supervised classification models such as KNN, SVM, Naive Bayes, Decision Trees, Random Forest, and Logistic Regression using the pre-processed data.\n",
    "3.\tAppraise the models: Assess the performance of the models via metrics such as accuracy, precision, recall, and F1-score.\n",
    "4.\tElect the best and least preferred models: Based on the evaluation, choose the best model that provides the highest accuracy and has the best overall performance.\n",
    "\n"
   ]
  },
  {
   "cell_type": "code",
   "execution_count": 3,
   "metadata": {},
   "outputs": [],
   "source": [
    "import pandas as pd\n",
    "import numpy as np\n",
    "import tensorflow as tf\n",
    "import matplotlib.pyplot as plt\n",
    "\n",
    "from sklearn.model_selection import train_test_split\n",
    "from sklearn.linear_model import LogisticRegression\n",
    "from sklearn.neighbors import KNeighborsClassifier\n",
    "from sklearn.svm import SVC\n",
    "from sklearn.naive_bayes import GaussianNB\n",
    "from sklearn.tree import DecisionTreeClassifier\n",
    "from sklearn.ensemble import RandomForestClassifier, GradientBoostingClassifier\n",
    "from sklearn.metrics import accuracy_score, precision_score, recall_score, f1_score\n",
    "from sklearn.model_selection import train_test_split\n",
    "from sklearn.preprocessing import StandardScaler\n",
    "\n",
    "\n",
    "\n"
   ]
  },
  {
   "cell_type": "markdown",
   "metadata": {},
   "source": [
    "# Load and Preprocess the data:\n",
    "Below code will load the data from the csv file into a pandas dataframe, remove the first column which is the email number, replace all non-numeric characters with NaN values, fill the missing values with 0, convert the data into integer type, and store it as dataframe named 'df'."
   ]
  },
  {
   "cell_type": "code",
   "execution_count": 4,
   "metadata": {
    "id": "jSWmiHvlYUz2",
    "scrolled": true
   },
   "outputs": [
    {
     "data": {
      "text/html": [
       "<div>\n",
       "<style scoped>\n",
       "    .dataframe tbody tr th:only-of-type {\n",
       "        vertical-align: middle;\n",
       "    }\n",
       "\n",
       "    .dataframe tbody tr th {\n",
       "        vertical-align: top;\n",
       "    }\n",
       "\n",
       "    .dataframe thead th {\n",
       "        text-align: right;\n",
       "    }\n",
       "</style>\n",
       "<table border=\"1\" class=\"dataframe\">\n",
       "  <thead>\n",
       "    <tr style=\"text-align: right;\">\n",
       "      <th></th>\n",
       "      <th>Prediction</th>\n",
       "      <th>the</th>\n",
       "      <th>to</th>\n",
       "      <th>ect</th>\n",
       "      <th>and</th>\n",
       "      <th>for</th>\n",
       "      <th>of</th>\n",
       "      <th>a</th>\n",
       "      <th>you</th>\n",
       "      <th>hou</th>\n",
       "      <th>...</th>\n",
       "      <th>enhancements</th>\n",
       "      <th>connevey</th>\n",
       "      <th>jay</th>\n",
       "      <th>valued</th>\n",
       "      <th>lay</th>\n",
       "      <th>infrastructure</th>\n",
       "      <th>military</th>\n",
       "      <th>allowing</th>\n",
       "      <th>ff</th>\n",
       "      <th>dry</th>\n",
       "    </tr>\n",
       "  </thead>\n",
       "  <tbody>\n",
       "    <tr>\n",
       "      <th>0</th>\n",
       "      <td>0</td>\n",
       "      <td>0</td>\n",
       "      <td>0</td>\n",
       "      <td>1</td>\n",
       "      <td>0</td>\n",
       "      <td>0</td>\n",
       "      <td>0</td>\n",
       "      <td>2</td>\n",
       "      <td>0</td>\n",
       "      <td>0</td>\n",
       "      <td>...</td>\n",
       "      <td>0</td>\n",
       "      <td>0</td>\n",
       "      <td>0</td>\n",
       "      <td>0</td>\n",
       "      <td>0</td>\n",
       "      <td>0</td>\n",
       "      <td>0</td>\n",
       "      <td>0</td>\n",
       "      <td>0</td>\n",
       "      <td>0</td>\n",
       "    </tr>\n",
       "    <tr>\n",
       "      <th>1</th>\n",
       "      <td>0</td>\n",
       "      <td>8</td>\n",
       "      <td>13</td>\n",
       "      <td>24</td>\n",
       "      <td>6</td>\n",
       "      <td>6</td>\n",
       "      <td>2</td>\n",
       "      <td>102</td>\n",
       "      <td>1</td>\n",
       "      <td>27</td>\n",
       "      <td>...</td>\n",
       "      <td>0</td>\n",
       "      <td>0</td>\n",
       "      <td>0</td>\n",
       "      <td>0</td>\n",
       "      <td>0</td>\n",
       "      <td>0</td>\n",
       "      <td>0</td>\n",
       "      <td>0</td>\n",
       "      <td>1</td>\n",
       "      <td>0</td>\n",
       "    </tr>\n",
       "    <tr>\n",
       "      <th>2</th>\n",
       "      <td>0</td>\n",
       "      <td>0</td>\n",
       "      <td>0</td>\n",
       "      <td>1</td>\n",
       "      <td>0</td>\n",
       "      <td>0</td>\n",
       "      <td>0</td>\n",
       "      <td>8</td>\n",
       "      <td>0</td>\n",
       "      <td>0</td>\n",
       "      <td>...</td>\n",
       "      <td>0</td>\n",
       "      <td>0</td>\n",
       "      <td>0</td>\n",
       "      <td>0</td>\n",
       "      <td>0</td>\n",
       "      <td>0</td>\n",
       "      <td>0</td>\n",
       "      <td>0</td>\n",
       "      <td>0</td>\n",
       "      <td>0</td>\n",
       "    </tr>\n",
       "    <tr>\n",
       "      <th>3</th>\n",
       "      <td>0</td>\n",
       "      <td>0</td>\n",
       "      <td>5</td>\n",
       "      <td>22</td>\n",
       "      <td>0</td>\n",
       "      <td>5</td>\n",
       "      <td>1</td>\n",
       "      <td>51</td>\n",
       "      <td>2</td>\n",
       "      <td>10</td>\n",
       "      <td>...</td>\n",
       "      <td>0</td>\n",
       "      <td>0</td>\n",
       "      <td>0</td>\n",
       "      <td>0</td>\n",
       "      <td>0</td>\n",
       "      <td>0</td>\n",
       "      <td>0</td>\n",
       "      <td>0</td>\n",
       "      <td>0</td>\n",
       "      <td>0</td>\n",
       "    </tr>\n",
       "    <tr>\n",
       "      <th>4</th>\n",
       "      <td>0</td>\n",
       "      <td>7</td>\n",
       "      <td>6</td>\n",
       "      <td>17</td>\n",
       "      <td>1</td>\n",
       "      <td>5</td>\n",
       "      <td>2</td>\n",
       "      <td>57</td>\n",
       "      <td>0</td>\n",
       "      <td>9</td>\n",
       "      <td>...</td>\n",
       "      <td>0</td>\n",
       "      <td>0</td>\n",
       "      <td>0</td>\n",
       "      <td>0</td>\n",
       "      <td>0</td>\n",
       "      <td>0</td>\n",
       "      <td>0</td>\n",
       "      <td>0</td>\n",
       "      <td>1</td>\n",
       "      <td>0</td>\n",
       "    </tr>\n",
       "    <tr>\n",
       "      <th>...</th>\n",
       "      <td>...</td>\n",
       "      <td>...</td>\n",
       "      <td>...</td>\n",
       "      <td>...</td>\n",
       "      <td>...</td>\n",
       "      <td>...</td>\n",
       "      <td>...</td>\n",
       "      <td>...</td>\n",
       "      <td>...</td>\n",
       "      <td>...</td>\n",
       "      <td>...</td>\n",
       "      <td>...</td>\n",
       "      <td>...</td>\n",
       "      <td>...</td>\n",
       "      <td>...</td>\n",
       "      <td>...</td>\n",
       "      <td>...</td>\n",
       "      <td>...</td>\n",
       "      <td>...</td>\n",
       "      <td>...</td>\n",
       "      <td>...</td>\n",
       "    </tr>\n",
       "    <tr>\n",
       "      <th>5167</th>\n",
       "      <td>0</td>\n",
       "      <td>2</td>\n",
       "      <td>2</td>\n",
       "      <td>2</td>\n",
       "      <td>3</td>\n",
       "      <td>0</td>\n",
       "      <td>0</td>\n",
       "      <td>32</td>\n",
       "      <td>0</td>\n",
       "      <td>0</td>\n",
       "      <td>...</td>\n",
       "      <td>0</td>\n",
       "      <td>0</td>\n",
       "      <td>0</td>\n",
       "      <td>0</td>\n",
       "      <td>0</td>\n",
       "      <td>0</td>\n",
       "      <td>0</td>\n",
       "      <td>0</td>\n",
       "      <td>0</td>\n",
       "      <td>0</td>\n",
       "    </tr>\n",
       "    <tr>\n",
       "      <th>5168</th>\n",
       "      <td>0</td>\n",
       "      <td>35</td>\n",
       "      <td>27</td>\n",
       "      <td>11</td>\n",
       "      <td>2</td>\n",
       "      <td>6</td>\n",
       "      <td>5</td>\n",
       "      <td>151</td>\n",
       "      <td>4</td>\n",
       "      <td>3</td>\n",
       "      <td>...</td>\n",
       "      <td>0</td>\n",
       "      <td>0</td>\n",
       "      <td>0</td>\n",
       "      <td>0</td>\n",
       "      <td>0</td>\n",
       "      <td>0</td>\n",
       "      <td>0</td>\n",
       "      <td>0</td>\n",
       "      <td>1</td>\n",
       "      <td>0</td>\n",
       "    </tr>\n",
       "    <tr>\n",
       "      <th>5169</th>\n",
       "      <td>1</td>\n",
       "      <td>0</td>\n",
       "      <td>0</td>\n",
       "      <td>1</td>\n",
       "      <td>1</td>\n",
       "      <td>0</td>\n",
       "      <td>0</td>\n",
       "      <td>11</td>\n",
       "      <td>0</td>\n",
       "      <td>0</td>\n",
       "      <td>...</td>\n",
       "      <td>0</td>\n",
       "      <td>0</td>\n",
       "      <td>0</td>\n",
       "      <td>0</td>\n",
       "      <td>0</td>\n",
       "      <td>0</td>\n",
       "      <td>0</td>\n",
       "      <td>0</td>\n",
       "      <td>0</td>\n",
       "      <td>0</td>\n",
       "    </tr>\n",
       "    <tr>\n",
       "      <th>5170</th>\n",
       "      <td>1</td>\n",
       "      <td>2</td>\n",
       "      <td>7</td>\n",
       "      <td>1</td>\n",
       "      <td>0</td>\n",
       "      <td>2</td>\n",
       "      <td>1</td>\n",
       "      <td>28</td>\n",
       "      <td>2</td>\n",
       "      <td>0</td>\n",
       "      <td>...</td>\n",
       "      <td>0</td>\n",
       "      <td>0</td>\n",
       "      <td>0</td>\n",
       "      <td>0</td>\n",
       "      <td>0</td>\n",
       "      <td>0</td>\n",
       "      <td>0</td>\n",
       "      <td>0</td>\n",
       "      <td>1</td>\n",
       "      <td>0</td>\n",
       "    </tr>\n",
       "    <tr>\n",
       "      <th>5171</th>\n",
       "      <td>0</td>\n",
       "      <td>22</td>\n",
       "      <td>24</td>\n",
       "      <td>5</td>\n",
       "      <td>1</td>\n",
       "      <td>6</td>\n",
       "      <td>5</td>\n",
       "      <td>148</td>\n",
       "      <td>8</td>\n",
       "      <td>2</td>\n",
       "      <td>...</td>\n",
       "      <td>0</td>\n",
       "      <td>0</td>\n",
       "      <td>0</td>\n",
       "      <td>0</td>\n",
       "      <td>0</td>\n",
       "      <td>0</td>\n",
       "      <td>0</td>\n",
       "      <td>0</td>\n",
       "      <td>0</td>\n",
       "      <td>0</td>\n",
       "    </tr>\n",
       "  </tbody>\n",
       "</table>\n",
       "<p>5172 rows × 3001 columns</p>\n",
       "</div>"
      ],
      "text/plain": [
       "      Prediction  the  to  ect  and  for  of    a  you  hou  ...  \\\n",
       "0              0    0   0    1    0    0   0    2    0    0  ...   \n",
       "1              0    8  13   24    6    6   2  102    1   27  ...   \n",
       "2              0    0   0    1    0    0   0    8    0    0  ...   \n",
       "3              0    0   5   22    0    5   1   51    2   10  ...   \n",
       "4              0    7   6   17    1    5   2   57    0    9  ...   \n",
       "...          ...  ...  ..  ...  ...  ...  ..  ...  ...  ...  ...   \n",
       "5167           0    2   2    2    3    0   0   32    0    0  ...   \n",
       "5168           0   35  27   11    2    6   5  151    4    3  ...   \n",
       "5169           1    0   0    1    1    0   0   11    0    0  ...   \n",
       "5170           1    2   7    1    0    2   1   28    2    0  ...   \n",
       "5171           0   22  24    5    1    6   5  148    8    2  ...   \n",
       "\n",
       "      enhancements  connevey  jay  valued  lay  infrastructure  military  \\\n",
       "0                0         0    0       0    0               0         0   \n",
       "1                0         0    0       0    0               0         0   \n",
       "2                0         0    0       0    0               0         0   \n",
       "3                0         0    0       0    0               0         0   \n",
       "4                0         0    0       0    0               0         0   \n",
       "...            ...       ...  ...     ...  ...             ...       ...   \n",
       "5167             0         0    0       0    0               0         0   \n",
       "5168             0         0    0       0    0               0         0   \n",
       "5169             0         0    0       0    0               0         0   \n",
       "5170             0         0    0       0    0               0         0   \n",
       "5171             0         0    0       0    0               0         0   \n",
       "\n",
       "      allowing  ff  dry  \n",
       "0            0   0    0  \n",
       "1            0   1    0  \n",
       "2            0   0    0  \n",
       "3            0   0    0  \n",
       "4            0   1    0  \n",
       "...        ...  ..  ...  \n",
       "5167         0   0    0  \n",
       "5168         0   1    0  \n",
       "5169         0   0    0  \n",
       "5170         0   1    0  \n",
       "5171         0   0    0  \n",
       "\n",
       "[5172 rows x 3001 columns]"
      ]
     },
     "execution_count": 4,
     "metadata": {},
     "output_type": "execute_result"
    }
   ],
   "source": [
    "# Load the data from csv file into a pandas dataframe\n",
    "df = pd.read_csv(\"./data.csv\")\n",
    "\n",
    "# Remove the first column (Email name) as it is not relevant for the prediction\n",
    "df = df.drop(columns=['Email No.'])\n",
    "\n",
    "# Replace non-numeric characters with NaN values\n",
    "df = df.replace(r'[^\\d.]+', value=float('nan'), regex=True)\n",
    "\n",
    "# Fill missing values with 0\n",
    "df.fillna(0, inplace=True)\n",
    "\n",
    "# Convert the data into integer type\n",
    "df = df.astype(int)\n",
    "df"
   ]
  },
  {
   "cell_type": "markdown",
   "metadata": {
    "colab": {
     "base_uri": "https://localhost:8080/",
     "height": 236
    },
    "id": "XeJxBMFlYVtz",
    "outputId": "68770b59-2c5b-4778-d6bf-1d83f6ace3a1"
   },
   "source": [
    "# Training the Models "
   ]
  },
  {
   "cell_type": "markdown",
   "metadata": {},
   "source": [
    "Splitting our Data Set into Training Data and Test Data\n",
    "\n",
    "(https://stackoverflow.com/questions/56311638/how-how-iloc-1-works-can-any-one-explain-1-params)"
   ]
  },
  {
   "cell_type": "code",
   "execution_count": 5,
   "metadata": {
    "colab": {
     "base_uri": "https://localhost:8080/"
    },
    "id": "F1ERJYQ9iZCe",
    "outputId": "76cbba0a-143a-478c-e474-23a3c1b1b4cd"
   },
   "outputs": [],
   "source": [
    "# Split the data into features (X) and labels (y)\n",
    "X = df.iloc[:, :-1].values\n",
    "y = df.iloc[:, -1].values"
   ]
  },
  {
   "cell_type": "code",
   "execution_count": 6,
   "metadata": {
    "colab": {
     "base_uri": "https://localhost:8080/"
    },
    "id": "sfQ8pZyKiZwO",
    "outputId": "0659d4ad-be65-4b6d-fa9c-e18bc153f150"
   },
   "outputs": [],
   "source": [
    "# Split the data into training and testing sets\n",
    "X_train, X_test, y_train, y_test = train_test_split(X, y, test_size=0.2, random_state=0)"
   ]
  },
  {
   "cell_type": "markdown",
   "metadata": {},
   "source": [
    "Defining Array for 'Results'"
   ]
  },
  {
   "cell_type": "code",
   "execution_count": 7,
   "metadata": {
    "colab": {
     "base_uri": "https://localhost:8080/"
    },
    "id": "am3O5GlziZ5q",
    "outputId": "0383cca7-b783-446b-fd7c-ff9f5bc33043"
   },
   "outputs": [],
   "source": [
    "# Define a dictionary to store the results of each model\n",
    "results = {}"
   ]
  },
  {
   "cell_type": "markdown",
   "metadata": {},
   "source": [
    "# Building a Machine Learning KNN Model\n",
    "\n",
    "What is K-Nearest Neighbour? It is a supervised machine learning algorithm. The algorithm can be used to solve both classification and regression problem statements. The number of nearest neighbours to a new unknown variable that has to be predicted or classified is denoted by the symbol 'K'"
   ]
  },
  {
   "cell_type": "code",
   "execution_count": 8,
   "metadata": {
    "colab": {
     "base_uri": "https://localhost:8080/",
     "height": 236
    },
    "id": "Prts_8G-ihFf",
    "outputId": "e50528d4-68fc-4271-9f42-ef0fdbf0d823",
    "scrolled": true
   },
   "outputs": [
    {
     "name": "stdout",
     "output_type": "stream",
     "text": [
      "{'accuracy': 0.996135265700483, 'precision': 0.5545865633074936, 'recall': 0.49967637540453075, 'f1_score': 0.5231629024063554}\n"
     ]
    },
    {
     "name": "stderr",
     "output_type": "stream",
     "text": [
      "C:\\Users\\prabh\\anaconda3\\lib\\site-packages\\sklearn\\neighbors\\_classification.py:228: FutureWarning: Unlike other reduction functions (e.g. `skew`, `kurtosis`), the default behavior of `mode` typically preserves the axis it acts along. In SciPy 1.11.0, this behavior will change: the default value of `keepdims` will become False, the `axis` over which the statistic is taken will be eliminated, and the value None will no longer be accepted. Set `keepdims` to True or False to avoid this warning.\n",
      "  mode, _ = stats.mode(_y[neigh_ind, k], axis=1)\n"
     ]
    }
   ],
   "source": [
    "# Train KNN model\n",
    "model_KNN = KNeighborsClassifier()\n",
    "model_KNN.fit(X_train, y_train)\n",
    "\n",
    "# Predict the target values for test set\n",
    "y_pred_KNN = model_KNN.predict(X_test)\n",
    "\n",
    "# Evaluate the KNN model\n",
    "accuracy_KNN = accuracy_score(y_test, y_pred_KNN)\n",
    "precision_KNN = precision_score(y_test, y_pred_KNN,average='macro',zero_division=0)\n",
    "recall_KNN = recall_score(y_test, y_pred_KNN,average='macro',zero_division=0)\n",
    "f1_KNN = f1_score(y_test, y_pred_KNN,average='macro',zero_division=0)\n",
    "\n",
    "# Store the results of KNN model in the dictionary\n",
    "results[\"KNN\"] = {\"accuracy\": accuracy_KNN, \n",
    "                  \"precision\": precision_KNN, \n",
    "                  \"recall\": recall_KNN, \n",
    "                  \"f1_score\": f1_KNN\n",
    "                 }\n",
    "print(results[\"KNN\"])"
   ]
  },
  {
   "cell_type": "markdown",
   "metadata": {},
   "source": [
    "# Building a Machine Learning SVM Model\n",
    "\n",
    "What is SVM Model? Support vector machines (SVMs) are a set of supervised learning methods used for classification, regression and outliers detection. The advantages of support vector machines are: Effective in high dimensional spaces. Still effective in cases where number of dimensions is greater than the number of samples"
   ]
  },
  {
   "cell_type": "code",
   "execution_count": 9,
   "metadata": {
    "id": "77Qd1ftm9Ygp"
   },
   "outputs": [
    {
     "name": "stdout",
     "output_type": "stream",
     "text": [
      "{'accuracy': 0.9951690821256038, 'precision': 0.33172302737520126, 'recall': 0.3333333333333333, 'f1_score': 0.33252623083131555}\n"
     ]
    }
   ],
   "source": [
    "# Train SVM model\n",
    "model_SVM = SVC()\n",
    "model_SVM.fit(X_train, y_train)\n",
    "\n",
    "# Predict the target values for test set\n",
    "y_pred_SVM = model_SVM.predict(X_test)\n",
    "\n",
    "# Evaluate the SVM model\n",
    "accuracy_SVM = accuracy_score(y_test, y_pred_SVM)\n",
    "precision_SVM = precision_score(y_test, y_pred_SVM,average='macro',zero_division=0)\n",
    "recall_SVM = recall_score(y_test, y_pred_SVM,average='macro',zero_division=0)\n",
    "f1_SVM = f1_score(y_test, y_pred_SVM,average='macro',zero_division=0)\n",
    "\n",
    "# Store the results of SVM model in the dictionary\n",
    "results[\"SVM\"] = {\"accuracy\": accuracy_SVM, \n",
    "                  \"precision\": precision_SVM, \n",
    "                  \"recall\": recall_SVM, \n",
    "                  \"f1_score\": f1_SVM\n",
    "                 }\n",
    "print(results[\"SVM\"])"
   ]
  },
  {
   "cell_type": "markdown",
   "metadata": {},
   "source": [
    "# Building a Machine Learning Naive Bayes  Model\n",
    "What is Naive Bayes  Model? Naive Bayes is a simple technique for constructing classifiers: models that assign class labels to problem instances, represented as vectors of feature values, where the class labels are drawn from some finite set."
   ]
  },
  {
   "cell_type": "code",
   "execution_count": 10,
   "metadata": {
    "colab": {
     "base_uri": "https://localhost:8080/",
     "height": 424
    },
    "id": "qCmBf55HyV6j",
    "outputId": "b163ae49-ebde-417d-e722-74474ffcd5da"
   },
   "outputs": [
    {
     "name": "stdout",
     "output_type": "stream",
     "text": [
      "{'accuracy': 0.9652173913043478, 'precision': 0.3421036714449888, 'recall': 0.40631067961165046, 'f1_score': 0.34544583954032776}\n"
     ]
    }
   ],
   "source": [
    "# Train Naive Bayes model\n",
    "model_NB = GaussianNB()\n",
    "model_NB.fit(X_train, y_train)\n",
    "\n",
    "# Predict the target values for test set\n",
    "y_pred_NB = model_NB.predict(X_test)\n",
    "\n",
    "# Evaluate the Naive Bayes model\n",
    "accuracy_NB = accuracy_score(y_test, y_pred_NB)\n",
    "precision_NB = precision_score(y_test, y_pred_NB,average='macro',zero_division=0)\n",
    "recall_NB = recall_score(y_test, y_pred_NB,average='macro',zero_division=0)\n",
    "f1_NB = f1_score(y_test, y_pred_NB,average='macro',zero_division=0)\n",
    "\n",
    "# Store the results of Naive Bayes model in the dictionary\n",
    "results[\"Naive Bayes\"] = {\"accuracy\": accuracy_NB, \n",
    "                          \"precision\": precision_NB, \n",
    "                          \"recall\": recall_NB, \n",
    "                          \"f1_score\": f1_NB\n",
    "                         }\n",
    "print(results[\"Naive Bayes\"])"
   ]
  },
  {
   "cell_type": "markdown",
   "metadata": {},
   "source": [
    "# Building a Machine Learning Decision Tree Model\n",
    "What is Decision Tree Model? Decision trees are an approach used in supervised machine learning, a technique which uses labelled input and output datasets to train models. The approach is used mainly to solve classification problems, which is the use of a model to categorise or classify an object"
   ]
  },
  {
   "cell_type": "code",
   "execution_count": 11,
   "metadata": {
    "colab": {
     "base_uri": "https://localhost:8080/",
     "height": 236
    },
    "id": "uVGa3dUly06o",
    "outputId": "5aa844c5-0b7c-4b3f-d89d-af8351728b85"
   },
   "outputs": [
    {
     "name": "stdout",
     "output_type": "stream",
     "text": [
      "{'accuracy': 0.9932367149758454, 'precision': 0.44347262714609653, 'recall': 0.498705501618123, 'f1_score': 0.46553343046786466}\n"
     ]
    }
   ],
   "source": [
    "# Train Decision Tree model\n",
    "model_DT = DecisionTreeClassifier()\n",
    "model_DT.fit(X_train, y_train)\n",
    "\n",
    "# Predict the target values for test set\n",
    "y_pred_DT = model_DT.predict(X_test)\n",
    "\n",
    "# Evaluate the Decision Tree model\n",
    "accuracy_DT = accuracy_score(y_test, y_pred_DT)\n",
    "precision_DT = precision_score(y_test, y_pred_DT,average='macro',zero_division=0)\n",
    "recall_DT = recall_score(y_test, y_pred_DT,average='macro',zero_division=0)\n",
    "f1_DT = f1_score(y_test, y_pred_DT,average='macro',zero_division=0)\n",
    "\n",
    "# Store the results of Decision Tree model in the dictionary\n",
    "results[\"Decision Tree\"] = {\"accuracy\": accuracy_DT, \n",
    "                            \"precision\": precision_DT, \n",
    "                            \"recall\": recall_DT, \n",
    "                            \"f1_score\": f1_DT\n",
    "                           }\n",
    "                         \n",
    "print(results[\"Decision Tree\"])"
   ]
  },
  {
   "cell_type": "markdown",
   "metadata": {},
   "source": [
    "# Building a Machine Learning Random Forest Model\n",
    "What is Random Forest Model? A random forest is a supervised machine learning algorithm that is constructed from decision tree algorithms,The (random forest) algorithm establishes the outcome based on the predictions of the decision trees. It predicts by taking the average or mean of the output from various trees. Increasing the number of trees increases the precision of the outcome."
   ]
  },
  {
   "cell_type": "code",
   "execution_count": 12,
   "metadata": {
    "id": "isZj2PoqzBRm"
   },
   "outputs": [
    {
     "name": "stdout",
     "output_type": "stream",
     "text": [
      "{'accuracy': 0.9971014492753624, 'precision': 0.6656986124556309, 'recall': 0.5, 'f1_score': 0.5550708245812462}\n"
     ]
    }
   ],
   "source": [
    "# Train Random Forest model\n",
    "model_RF = RandomForestClassifier()\n",
    "model_RF.fit(X_train, y_train)\n",
    "\n",
    "# Predict the target values for test set\n",
    "y_pred_RF = model_RF.predict(X_test)\n",
    "\n",
    "# Evaluate the Random Forest model\n",
    "accuracy_RF = accuracy_score(y_test, y_pred_RF)\n",
    "precision_RF = precision_score(y_test, y_pred_RF,average='macro',zero_division=0)\n",
    "recall_RF = recall_score(y_test, y_pred_RF,average='macro',zero_division=0)\n",
    "f1_RF = f1_score(y_test, y_pred_RF,average='macro',zero_division=0)\n",
    "\n",
    "# Store the results of Random Forest model in the dictionary\n",
    "results[\"Random Forest\"] = {\"accuracy\": accuracy_RF, \n",
    "                            \"precision\": precision_RF, \n",
    "                            \"recall\": recall_RF, \n",
    "                            \"f1_score\": f1_RF\n",
    "                           }\n",
    "print(results[\"Random Forest\"])"
   ]
  },
  {
   "cell_type": "markdown",
   "metadata": {},
   "source": [
    "# Building a Machine Learning Logistic Regression Model\n",
    "\n",
    "What is Logistic Regression?\n",
    "Logistic Regression is a “Supervised machine learning” algorithm that can be used to model the probability of a certain class or event. It is used when the data is linearly separable and the outcome is binary or dichotomous in nature.\n",
    "\n",
    "That means Logistic regression is usually used for Binary classification problems."
   ]
  },
  {
   "cell_type": "code",
   "execution_count": 13,
   "metadata": {},
   "outputs": [
    {
     "name": "stdout",
     "output_type": "stream",
     "text": [
      "{'accuracy': 0.996135265700483, 'precision': 0.523485269594219, 'recall': 0.6656957928802588, 'f1_score': 0.5751096975586772}\n"
     ]
    },
    {
     "name": "stderr",
     "output_type": "stream",
     "text": [
      "C:\\Users\\prabh\\anaconda3\\lib\\site-packages\\sklearn\\linear_model\\_logistic.py:814: ConvergenceWarning: lbfgs failed to converge (status=1):\n",
      "STOP: TOTAL NO. of ITERATIONS REACHED LIMIT.\n",
      "\n",
      "Increase the number of iterations (max_iter) or scale the data as shown in:\n",
      "    https://scikit-learn.org/stable/modules/preprocessing.html\n",
      "Please also refer to the documentation for alternative solver options:\n",
      "    https://scikit-learn.org/stable/modules/linear_model.html#logistic-regression\n",
      "  n_iter_i = _check_optimize_result(\n"
     ]
    }
   ],
   "source": [
    "# Train Logistic Regression model\n",
    "model_LR = LogisticRegression(solver='lbfgs',max_iter=1000)\n",
    "model_LR.fit(X_train, y_train)\n",
    "\n",
    "# Predict the target values for test set\n",
    "y_pred_LR = model_LR.predict(X_test)\n",
    "\n",
    "# Evaluate the Logistic Regression model\n",
    "accuracy_LR = accuracy_score(y_test, y_pred_LR)\n",
    "precision_LR = precision_score(y_test, y_pred_LR,average='macro',zero_division=0)\n",
    "recall_LR = recall_score(y_test, y_pred_LR,average='macro',zero_division=0)\n",
    "f1_LR = f1_score(y_test, y_pred_LR,average='macro',zero_division=0)\n",
    "\n",
    "# Store the results of Logistic Regression model in the dictionary\n",
    "results[\"Logistic Regression\"] = {\"accuracy\": accuracy_LR, \n",
    "                                  \"precision\": precision_LR, \n",
    "                                  \"recall\": recall_LR, \n",
    "                                  \"f1_score\": f1_LR\n",
    "                                 }\n",
    "print(results[\"Logistic Regression\"])"
   ]
  },
  {
   "cell_type": "code",
   "execution_count": 14,
   "metadata": {},
   "outputs": [
    {
     "data": {
      "text/plain": [
       "{'KNN': {'accuracy': 0.996135265700483,\n",
       "  'precision': 0.5545865633074936,\n",
       "  'recall': 0.49967637540453075,\n",
       "  'f1_score': 0.5231629024063554},\n",
       " 'SVM': {'accuracy': 0.9951690821256038,\n",
       "  'precision': 0.33172302737520126,\n",
       "  'recall': 0.3333333333333333,\n",
       "  'f1_score': 0.33252623083131555},\n",
       " 'Naive Bayes': {'accuracy': 0.9652173913043478,\n",
       "  'precision': 0.3421036714449888,\n",
       "  'recall': 0.40631067961165046,\n",
       "  'f1_score': 0.34544583954032776},\n",
       " 'Decision Tree': {'accuracy': 0.9932367149758454,\n",
       "  'precision': 0.44347262714609653,\n",
       "  'recall': 0.498705501618123,\n",
       "  'f1_score': 0.46553343046786466},\n",
       " 'Random Forest': {'accuracy': 0.9971014492753624,\n",
       "  'precision': 0.6656986124556309,\n",
       "  'recall': 0.5,\n",
       "  'f1_score': 0.5550708245812462},\n",
       " 'Logistic Regression': {'accuracy': 0.996135265700483,\n",
       "  'precision': 0.523485269594219,\n",
       "  'recall': 0.6656957928802588,\n",
       "  'f1_score': 0.5751096975586772}}"
      ]
     },
     "execution_count": 14,
     "metadata": {},
     "output_type": "execute_result"
    }
   ],
   "source": [
    "# Print the final results of all models\n",
    "results"
   ]
  },
  {
   "cell_type": "code",
   "execution_count": 15,
   "metadata": {
    "id": "NHbg1g8Ey1qC"
   },
   "outputs": [],
   "source": [
    "# Create a StandardScaler instances\n",
    "scaler = StandardScaler()\n",
    "\n",
    "# Fit the StandardScaler\n",
    "X_scaler = scaler.fit(X_train)\n",
    "\n",
    "# Scale the data\n",
    "X_train_scaled = X_scaler.transform(X_train)\n",
    "X_test_scaled = X_scaler.transform(X_test)"
   ]
  },
  {
   "cell_type": "markdown",
   "metadata": {},
   "source": [
    "# Model Visuals and Analysis"
   ]
  },
  {
   "cell_type": "code",
   "execution_count": 16,
   "metadata": {
    "colab": {
     "base_uri": "https://localhost:8080/"
    },
    "id": "XfqaDgKNzKr4",
    "outputId": "d6931967-6f1f-44a0-f8bb-72972322c676"
   },
   "outputs": [
    {
     "data": {
      "image/png": "[encoded data removed]",
      "text/plain": [
       "<Figure size 1000x600 with 1 Axes>"
      ]
     },
     "metadata": {},
     "output_type": "display_data"
    }
   ],
   "source": [
    "# Plot the accuracy of all models\n",
    "plt.figure(figsize=(10,6))\n",
    "plt.bar(results.keys(), [result[\"accuracy\"] for result in results.values()])\n",
    "plt.title(\"Accuracy of Different Models\")\n",
    "plt.xlabel(\"Models\")\n",
    "plt.ylabel(\"Accuracy\")\n",
    "plt.ylim(0, 1)\n",
    "plt.show()"
   ]
  },
  {
   "cell_type": "code",
   "execution_count": 17,
   "metadata": {
    "id": "EJyqEPvNzVvv"
   },
   "outputs": [
    {
     "data": {
      "image/png": "[encoded data removed]",
      "text/plain": [
       "<Figure size 1000x700 with 1 Axes>"
      ]
     },
     "metadata": {},
     "output_type": "display_data"
    }
   ],
   "source": [
    "# Plot the precision of all models\n",
    "plt.figure(figsize=(10,7))\n",
    "plt.bar(results.keys(), [result[\"precision\"] for result in results.values()])\n",
    "plt.title(\"Precision of Different Models\")\n",
    "plt.xlabel(\"Models\")\n",
    "plt.ylabel(\"Precision\")\n",
    "plt.ylim(0, 1)\n",
    "plt.show()"
   ]
  },
  {
   "cell_type": "code",
   "execution_count": 18,
   "metadata": {
    "colab": {
     "base_uri": "https://localhost:8080/"
    },
    "id": "MRr0zyr2zZJU",
    "outputId": "c6bf5f02-104e-45ce-b490-f1fb8ab8e4cd"
   },
   "outputs": [
    {
     "data": {
      "image/png": "[encoded data removed]",
      "text/plain": [
       "<Figure size 1000x700 with 1 Axes>"
      ]
     },
     "metadata": {},
     "output_type": "display_data"
    }
   ],
   "source": [
    "# Plot the recall of all models\n",
    "plt.figure(figsize=(10,7))\n",
    "plt.bar(results.keys(), [result[\"recall\"] for result in results.values()])\n",
    "plt.title(\"Recall of Different Models\")\n",
    "plt.xlabel(\"Models\")\n",
    "plt.ylabel(\"Recall\")\n",
    "plt.ylim(0, 1)\n",
    "plt.show()"
   ]
  },
  {
   "cell_type": "code",
   "execution_count": 19,
   "metadata": {
    "colab": {
     "base_uri": "https://localhost:8080/"
    },
    "id": "K12rEOI_za9W",
    "outputId": "c4985b3e-e663-4fd4-eb54-b4951942cb86"
   },
   "outputs": [
    {
     "data": {
      "image/png": "[encoded data removed]",
      "text/plain": [
       "<Figure size 1000x700 with 1 Axes>"
      ]
     },
     "metadata": {},
     "output_type": "display_data"
    }
   ],
   "source": [
    "# Plot the F1-score of all models\n",
    "plt.figure(figsize=(10,7))\n",
    "plt.bar(results.keys(), [result[\"f1_score\"] for result in results.values()])\n",
    "plt.title(\"F1-Score of Different Models\")\n",
    "plt.xlabel(\"Models\")\n",
    "plt.ylabel(\"F1-Score\")\n",
    "plt.ylim(0, 1)\n",
    "plt.show()"
   ]
  },
  {
   "cell_type": "code",
   "execution_count": 21,
   "metadata": {
    "scrolled": true
   },
   "outputs": [
    {
     "data": {
      "image/png": "[encoded data removed]",
      "text/plain": [
       "<Figure size 640x480 with 1 Axes>"
      ]
     },
     "metadata": {},
     "output_type": "display_data"
    }
   ],
   "source": [
    "# extract metrics values\n",
    "accuracies = [results[model]['accuracy'] for model in results]\n",
    "precisions = [results[model]['precision'] for model in results]\n",
    "recalls = [results[model]['recall'] for model in results]\n",
    "f1_scores = [results[model]['f1_score'] for model in results]\n",
    "\n",
    "# plot bar chart\n",
    "bar_width = 0.2\n",
    "index = np.arange(len(results))\n",
    "\n",
    "plt.bar(index, accuracies, bar_width, label='Accuracy')\n",
    "plt.bar(index + bar_width, precisions, bar_width, label='Precision')\n",
    "plt.bar(index + 2 * bar_width, recalls, bar_width, label='Recall')\n",
    "plt.bar(index + 3 * bar_width, f1_scores, bar_width, label='F1 Score')\n",
    "\n",
    "plt.xticks(index + bar_width, list(results.keys()), rotation ='vertical')\n",
    "plt.legend()\n",
    "plt.show()"
   ]
  },
  {
   "attachments": {
    "image-4.png": {
     "image/png": "[encoded data removed]"
    }
   },
   "cell_type": "markdown",
   "metadata": {},
   "source": [
    "Conclusion:\n",
    "\n",
    "![image-4.png](attachment:image-4.png)\n",
    "\n",
    "\n",
    "Based on the model performance outcome, the 'Logistic Regression' model appears to be the best among all the models with highest accuracy (0.997), precision (0.523), recall (0.665) and f1_score (0.575). Suggesting Logistic Regression model has the uppermost aptitude to fittingly classify emails as Spam or not spam, with minimal false positives and false negatives.\n",
    "\n",
    "SVM Model is more effective in high dimensional spaces, it might not be optimal for this data sets  as it contains only two out comes – Spam and Not spam\n",
    "\n",
    "It is worth observing that the performance of a model is subjected on the specific use of the case and problem at hand. For instance, if the cost of misclassifying an email as spam when it is not is higher, then a model with a high recall (even if its precision is lower) might be more desirable.\n",
    "\n"
   ]
  },
  {
   "cell_type": "code",
   "execution_count": null,
   "metadata": {},
   "outputs": [],
   "source": []
  }
 ],
 "metadata": {
  "colab": {
   "provenance": []
  },
  "kernelspec": {
   "display_name": "Python 3 (ipykernel)",
   "language": "python",
   "name": "python3"
  },
  "language_info": {
   "codemirror_mode": {
    "name": "ipython",
    "version": 3
   },
   "file_extension": ".py",
   "mimetype": "text/x-python",
   "name": "python",
   "nbconvert_exporter": "python",
   "pygments_lexer": "ipython3",
   "version": "3.9.16"
  }
 },
 "nbformat": 4,
 "nbformat_minor": 1
}
